{
 "cells": [
  {
   "cell_type": "code",
   "execution_count": null,
   "metadata": {
    "deletable": true,
    "editable": true
   },
   "outputs": [],
   "source": [
    "from __future__ import print_function\n",
    "import pandas as pd\n",
    "import numpy as np\n",
    "import datetime as dt\n",
    "import quandl\n",
    "import sys\n",
    "from tqdm import tqdm\n",
    "import seaborn as sns"
   ]
  },
  {
   "cell_type": "code",
   "execution_count": null,
   "metadata": {},
   "outputs": [],
   "source": [
    "import mlfinlab"
   ]
  },
  {
   "cell_type": "code",
   "execution_count": null,
   "metadata": {},
   "outputs": [],
   "source": [
    "import matplotlib.pyplot as plt\n",
    "import matplotlib.patches as mpatches\n",
    "from mlfinlab.portfolio_optimization.herc import HierarchicalEqualRiskContribution\n"
   ]
  },
  {
   "cell_type": "code",
   "execution_count": null,
   "metadata": {},
   "outputs": [],
   "source": [
    "stocks = {\n",
    "  'materials': ['XOM', 'RDS-B', 'PTR', 'CVX', 'TOT', 'BP', 'BHP', 'SNP', 'SLB', 'BBL'],\n",
    "  'consumer_goods': ['AAPL', 'PG', 'BUD', 'KO', 'PM', 'TM', 'PEP', 'UN', 'UL', 'MO'],\n",
    "  'healthcare': ['JNJ', 'PFE', 'NVS', 'UNH', 'MRK', 'AMGN', 'MDT', 'ABBV', 'SNY', 'CELG'],\n",
    "  'services': ['AMZN', 'BABA', 'WMT', 'CMCSA', 'HD', 'DIS', 'MCD', 'CHTR', 'UPS', 'PCLN'],\n",
    "  'utilities': ['NEE', 'DUK', 'D', 'SO', 'NGG', 'AEP', 'PCG', 'EXC', 'SRE', 'PPL'],\n",
    "  'cong': ['IEP', 'HRG', 'CODI', 'REX', 'SPLP', 'PICO', 'AGFS', 'GMRE'],\n",
    "  'finance': ['BCH', 'BSAC', 'BRK-A', 'JPM', 'WFC', 'BAC', 'V', 'C', 'HSBC', 'MA'],\n",
    "  'industrial_goods': ['GE', 'MMM', 'BA', 'HON', 'UTX', 'LMT', 'CAT', 'GD', 'DHR', 'ABB'],\n",
    "  'tech': ['GOOG', 'MSFT', 'FB', 'T', 'CHL', 'ORCL', 'TSM', 'VZ', 'INTC', 'CSCO'] \n",
    "    }"
   ]
  },
  {
   "cell_type": "code",
   "execution_count": null,
   "metadata": {},
   "outputs": [],
   "source": [
    "#sp500_URL = 'https://www.quandl.com/api/v3/datatables/WIKI/PRICES.csv?api_key=1X_UPAv5yAYqQzWt8U-L'\n",
    "#sp500_scrapped = pd.read_csv(sp500_URL) # using P a n d a s read_html function\n",
    "#tickers = read(sp500_scrapped)\n"
   ]
  },
  {
   "cell_type": "code",
   "execution_count": null,
   "metadata": {},
   "outputs": [],
   "source": [
    "#wiki_sp500 = 'https://en.wikipedia.org/wiki/List_of_S%26P_500_companies'\n",
    "#wiki_scrapped = pd.read_html(wiki_sp500)\n"
   ]
  },
  {
   "cell_type": "code",
   "execution_count": null,
   "metadata": {},
   "outputs": [],
   "source": [
    "#wiki_scrapped[0].Symbol.unique().size"
   ]
  },
  {
   "cell_type": "code",
   "execution_count": null,
   "metadata": {},
   "outputs": [],
   "source": [
    "#print(sp500_scrapped)"
   ]
  },
  {
   "cell_type": "markdown",
   "metadata": {
    "deletable": true,
    "editable": true
   },
   "source": [
    "# Data "
   ]
  },
  {
   "cell_type": "code",
   "execution_count": null,
   "metadata": {
    "collapsed": false,
    "deletable": true,
    "editable": true,
    "jupyter": {
     "outputs_hidden": false
    }
   },
   "outputs": [],
   "source": [
    "datadir='../data/'\n",
    "assets=pd.read_csv(datadir+'SP500.txt', comment='#').set_index('Symbol')\n",
    "\n",
    "QUANDL={\n",
    "    ## Get a key (free) from quandl.com and copy it here\n",
    "    'authtoken':\"1X_UPAv5yAYqQzWt8U-L\",\n",
    "    'start_date':dt.date(2007, 1, 1),\n",
    "    'end_date':dt.date(2020, 11, 30)\n",
    "}\n",
    "RISK_FREE_SYMBOL = \"USDOLLAR\"\n",
    "data={}"
   ]
  },
  {
   "cell_type": "code",
   "execution_count": null,
   "metadata": {},
   "outputs": [],
   "source": [
    "assets.head(5)"
   ]
  },
  {
   "cell_type": "markdown",
   "metadata": {
    "deletable": true,
    "editable": true
   },
   "source": [
    "#### Download loop"
   ]
  },
  {
   "cell_type": "markdown",
   "metadata": {
    "deletable": true,
    "editable": true
   },
   "source": [
    "If it stops because of Quandl error codes 503 or 504, try re-running it (it won't download data already downloaded). If Quandl complains about the speed of requests, try adding sleep time."
   ]
  },
  {
   "cell_type": "code",
   "execution_count": null,
   "metadata": {
    "collapsed": false,
    "deletable": true,
    "editable": true,
    "jupyter": {
     "outputs_hidden": false
    }
   },
   "outputs": [],
   "source": [
    "# download assets' data\n",
    "\n",
    "def store_data(data,ticker):\n",
    "    data['Ticker'] = ticker\n",
    "    data = data.reset_index()\n",
    "    data = data.set_index(['Date','Ticker'])\n",
    "    return data\n",
    "\n",
    "list_of_dataframes = []\n",
    "from time import sleep\n",
    "\n",
    "for ticker in tqdm(assets.index):\n",
    "    if ticker in data:\n",
    "        continue\n",
    "    #print('downloading %s from %s to %s' %(ticker, QUANDL['start_date'], QUANDL['end_date']))\n",
    "    try:\n",
    "        data = quandl.get(assets.Quandlcode[ticker], **QUANDL)\n",
    "        list_of_dataframes.append(store_data(data,ticker))\n",
    "        #sleep(0.1)\n",
    "    except quandl.NotFoundError:\n",
    "        print('\\tInvalid asset code')\n",
    "data = pd.concat(list_of_dataframes)"
   ]
  },
  {
   "cell_type": "code",
   "execution_count": 215,
   "metadata": {},
   "outputs": [
    {
     "data": {
      "text/html": [
       "<div>\n",
       "<style scoped>\n",
       "    .dataframe tbody tr th:only-of-type {\n",
       "        vertical-align: middle;\n",
       "    }\n",
       "\n",
       "    .dataframe tbody tr th {\n",
       "        vertical-align: top;\n",
       "    }\n",
       "\n",
       "    .dataframe thead th {\n",
       "        text-align: right;\n",
       "    }\n",
       "</style>\n",
       "<table border=\"1\" class=\"dataframe\">\n",
       "  <thead>\n",
       "    <tr style=\"text-align: right;\">\n",
       "      <th></th>\n",
       "      <th></th>\n",
       "      <th>Open</th>\n",
       "      <th>High</th>\n",
       "      <th>Low</th>\n",
       "      <th>Close</th>\n",
       "      <th>Volume</th>\n",
       "      <th>Ex-Dividend</th>\n",
       "      <th>Split Ratio</th>\n",
       "      <th>Adj. Open</th>\n",
       "      <th>Adj. High</th>\n",
       "      <th>Adj. Low</th>\n",
       "      <th>Adj. Close</th>\n",
       "      <th>Adj. Volume</th>\n",
       "      <th>Value</th>\n",
       "    </tr>\n",
       "    <tr>\n",
       "      <th>Date</th>\n",
       "      <th>Ticker</th>\n",
       "      <th></th>\n",
       "      <th></th>\n",
       "      <th></th>\n",
       "      <th></th>\n",
       "      <th></th>\n",
       "      <th></th>\n",
       "      <th></th>\n",
       "      <th></th>\n",
       "      <th></th>\n",
       "      <th></th>\n",
       "      <th></th>\n",
       "      <th></th>\n",
       "      <th></th>\n",
       "    </tr>\n",
       "  </thead>\n",
       "  <tbody>\n",
       "    <tr>\n",
       "      <th>2007-01-03</th>\n",
       "      <th>MMM</th>\n",
       "      <td>77.53</td>\n",
       "      <td>78.85</td>\n",
       "      <td>77.38</td>\n",
       "      <td>78.26</td>\n",
       "      <td>3781500.0</td>\n",
       "      <td>0.0</td>\n",
       "      <td>1.0</td>\n",
       "      <td>58.652119</td>\n",
       "      <td>59.650711</td>\n",
       "      <td>58.538643</td>\n",
       "      <td>59.204371</td>\n",
       "      <td>3781500.0</td>\n",
       "      <td>NaN</td>\n",
       "    </tr>\n",
       "    <tr>\n",
       "      <th>2007-01-04</th>\n",
       "      <th>MMM</th>\n",
       "      <td>78.40</td>\n",
       "      <td>78.41</td>\n",
       "      <td>77.45</td>\n",
       "      <td>77.95</td>\n",
       "      <td>2968400.0</td>\n",
       "      <td>0.0</td>\n",
       "      <td>1.0</td>\n",
       "      <td>59.310282</td>\n",
       "      <td>59.317847</td>\n",
       "      <td>58.591598</td>\n",
       "      <td>58.969853</td>\n",
       "      <td>2968400.0</td>\n",
       "      <td>NaN</td>\n",
       "    </tr>\n",
       "    <tr>\n",
       "      <th>2007-01-05</th>\n",
       "      <th>MMM</th>\n",
       "      <td>77.89</td>\n",
       "      <td>77.90</td>\n",
       "      <td>77.01</td>\n",
       "      <td>77.42</td>\n",
       "      <td>2765200.0</td>\n",
       "      <td>0.0</td>\n",
       "      <td>1.0</td>\n",
       "      <td>58.924462</td>\n",
       "      <td>58.932027</td>\n",
       "      <td>58.258735</td>\n",
       "      <td>58.568903</td>\n",
       "      <td>2765200.0</td>\n",
       "      <td>NaN</td>\n",
       "    </tr>\n",
       "    <tr>\n",
       "      <th>2007-01-08</th>\n",
       "      <th>MMM</th>\n",
       "      <td>77.19</td>\n",
       "      <td>78.04</td>\n",
       "      <td>76.97</td>\n",
       "      <td>77.59</td>\n",
       "      <td>2434500.0</td>\n",
       "      <td>0.0</td>\n",
       "      <td>1.0</td>\n",
       "      <td>58.394906</td>\n",
       "      <td>59.037939</td>\n",
       "      <td>58.228474</td>\n",
       "      <td>58.697510</td>\n",
       "      <td>2434500.0</td>\n",
       "      <td>NaN</td>\n",
       "    </tr>\n",
       "    <tr>\n",
       "      <th>2007-01-09</th>\n",
       "      <th>MMM</th>\n",
       "      <td>78.00</td>\n",
       "      <td>78.23</td>\n",
       "      <td>77.44</td>\n",
       "      <td>77.68</td>\n",
       "      <td>1896800.0</td>\n",
       "      <td>0.0</td>\n",
       "      <td>1.0</td>\n",
       "      <td>59.007678</td>\n",
       "      <td>59.181675</td>\n",
       "      <td>58.584033</td>\n",
       "      <td>58.765595</td>\n",
       "      <td>1896800.0</td>\n",
       "      <td>NaN</td>\n",
       "    </tr>\n",
       "  </tbody>\n",
       "</table>\n",
       "</div>"
      ],
      "text/plain": [
       "                    Open   High    Low  Close     Volume  Ex-Dividend  \\\n",
       "Date       Ticker                                                       \n",
       "2007-01-03 MMM     77.53  78.85  77.38  78.26  3781500.0          0.0   \n",
       "2007-01-04 MMM     78.40  78.41  77.45  77.95  2968400.0          0.0   \n",
       "2007-01-05 MMM     77.89  77.90  77.01  77.42  2765200.0          0.0   \n",
       "2007-01-08 MMM     77.19  78.04  76.97  77.59  2434500.0          0.0   \n",
       "2007-01-09 MMM     78.00  78.23  77.44  77.68  1896800.0          0.0   \n",
       "\n",
       "                   Split Ratio  Adj. Open  Adj. High   Adj. Low  Adj. Close  \\\n",
       "Date       Ticker                                                             \n",
       "2007-01-03 MMM             1.0  58.652119  59.650711  58.538643   59.204371   \n",
       "2007-01-04 MMM             1.0  59.310282  59.317847  58.591598   58.969853   \n",
       "2007-01-05 MMM             1.0  58.924462  58.932027  58.258735   58.568903   \n",
       "2007-01-08 MMM             1.0  58.394906  59.037939  58.228474   58.697510   \n",
       "2007-01-09 MMM             1.0  59.007678  59.181675  58.584033   58.765595   \n",
       "\n",
       "                   Adj. Volume  Value  \n",
       "Date       Ticker                      \n",
       "2007-01-03 MMM       3781500.0    NaN  \n",
       "2007-01-04 MMM       2968400.0    NaN  \n",
       "2007-01-05 MMM       2765200.0    NaN  \n",
       "2007-01-08 MMM       2434500.0    NaN  \n",
       "2007-01-09 MMM       1896800.0    NaN  "
      ]
     },
     "execution_count": 215,
     "metadata": {},
     "output_type": "execute_result"
    }
   ],
   "source": [
    "data.head(5)"
   ]
  },
  {
   "cell_type": "code",
   "execution_count": null,
   "metadata": {},
   "outputs": [],
   "source": [
    "data.tail(5)"
   ]
  },
  {
   "cell_type": "code",
   "execution_count": null,
   "metadata": {},
   "outputs": [],
   "source": []
  },
  {
   "cell_type": "code",
   "execution_count": null,
   "metadata": {},
   "outputs": [],
   "source": [
    "tickers = data.index.get_level_values('Ticker').unique()\n",
    "keys = tickers.to_series().keys()\n",
    "#set(keys)"
   ]
  },
  {
   "cell_type": "code",
   "execution_count": null,
   "metadata": {},
   "outputs": [],
   "source": [
    "keys=[el for el in assets.index if not el in (set(assets.index)-set(keys))]"
   ]
  },
  {
   "cell_type": "code",
   "execution_count": null,
   "metadata": {},
   "outputs": [],
   "source": [
    "#keys"
   ]
  },
  {
   "cell_type": "code",
   "execution_count": null,
   "metadata": {},
   "outputs": [],
   "source": [
    "prices = data['Adj. Close']\n",
    "open_prices = data['Open']\n",
    "close_prices = data['Close']\n",
    "sigmas = np.abs(np.log(open_prices)-np.log(close_prices))\n",
    "adj_volumes = data['Adj. Volume']"
   ]
  },
  {
   "cell_type": "markdown",
   "metadata": {},
   "source": [
    "# Remove USD for now"
   ]
  },
  {
   "cell_type": "code",
   "execution_count": null,
   "metadata": {},
   "outputs": [],
   "source": [
    "data_without_USD = data[data.index.get_level_values('Ticker') != RISK_FREE_SYMBOL]\n",
    "data_without_USD = data_without_USD.drop(['Value'],axis=1)\n",
    "data_without_USD.head(5)"
   ]
  },
  {
   "cell_type": "code",
   "execution_count": null,
   "metadata": {},
   "outputs": [],
   "source": [
    "\"\"\"\n",
    "assets_with_data_missing = data_without_USD.columns[data_without_USD.isnull().sum()>len(data_without_USD)*0.02]\n",
    "if len(assets_with_data_missing):\n",
    "    print('Assets %s have too many NaNs, removing them' % assets_with_data_missing)\n",
    "data_without_USD = data_without_USD.loc[:,~data_without_USD.columns.isin(assets_with_data_missing)]\n",
    "\"\"\""
   ]
  },
  {
   "cell_type": "code",
   "execution_count": null,
   "metadata": {},
   "outputs": [],
   "source": [
    "\"\"\"\n",
    "#assets_with_data_missing = data_without_USD[data_without_USD.isnull().sum()>len(data_without_USD)*0.02]\n",
    "rows_with_nan = [index for index, row in data_without_USD.iterrows() if row.isnull().any()]\n",
    "print(rows_with_nan)\n",
    "\"\"\""
   ]
  },
  {
   "cell_type": "code",
   "execution_count": null,
   "metadata": {},
   "outputs": [],
   "source": [
    "#data_without_USD.set_index(['Date','Ticker'],inplace=True)"
   ]
  },
  {
   "cell_type": "markdown",
   "metadata": {},
   "source": [
    "# Delete all stocks where there are missing values"
   ]
  },
  {
   "cell_type": "code",
   "execution_count": null,
   "metadata": {},
   "outputs": [],
   "source": [
    "nan_rows = data_without_USD[data_without_USD.isnull().T.any()]\n",
    "idx1 = nan_rows.index\n",
    "idx2 = data_without_USD.index.get_level_values('Ticker').unique()\n",
    "idex = idx1.intersection(idx2)\n",
    "data_without_USD = data_without_USD[~data_without_USD.index.get_level_values('Ticker').isin(idex)]\n"
   ]
  },
  {
   "cell_type": "code",
   "execution_count": null,
   "metadata": {},
   "outputs": [],
   "source": [
    "data_without_USD.shape"
   ]
  },
  {
   "cell_type": "markdown",
   "metadata": {},
   "source": [
    "# Find stock which has maximum data. Then only consider stocks which have atleast 90% of the maximum data to form portfolio"
   ]
  },
  {
   "cell_type": "code",
   "execution_count": null,
   "metadata": {},
   "outputs": [],
   "source": [
    "ticker_level_data = data_without_USD.groupby(level=1)\n",
    "count_of_assets = ticker_level_data.count()\n",
    "count_greater_than = (count_of_assets >= count_of_assets.max()*0.9)\n",
    "count_greater_than = count_greater_than.all(axis='columns')\n",
    "count_of_assets = count_of_assets[count_greater_than]"
   ]
  },
  {
   "cell_type": "code",
   "execution_count": null,
   "metadata": {},
   "outputs": [],
   "source": [
    "idx1 = count_of_assets.index\n",
    "idx2 = data_without_USD.index.get_level_values('Ticker').unique()\n",
    "idexxx = idx1.intersection(idx2)"
   ]
  },
  {
   "cell_type": "code",
   "execution_count": null,
   "metadata": {},
   "outputs": [],
   "source": [
    "data_without_USD = data_without_USD[data_without_USD.index.get_level_values('Ticker').isin(idexxx)]\n",
    "data_without_USD"
   ]
  },
  {
   "cell_type": "code",
   "execution_count": null,
   "metadata": {},
   "outputs": [],
   "source": [
    "data_without_USD.shape"
   ]
  },
  {
   "cell_type": "code",
   "execution_count": null,
   "metadata": {},
   "outputs": [],
   "source": [
    "data_without_USD = data_without_USD.rename(columns={\"Adj. Close\": \"AdjustedClose\"})\n"
   ]
  },
  {
   "cell_type": "code",
   "execution_count": null,
   "metadata": {},
   "outputs": [],
   "source": [
    "\"\"\"\n",
    "data_without_USD['Returns'] = df['Adj. Close'].pct_change()\n",
    "tick1 = data_without_USD.index.get_level_values('Ticker').to_series()\n",
    "tick2 = tick1.shift(1)\n",
    "mask = tick1 != tick2\n",
    "data_without_USD['Returns'][mask] = np.nan\n",
    "\"\"\""
   ]
  },
  {
   "cell_type": "markdown",
   "metadata": {},
   "source": [
    "# Calculate Log - Returns"
   ]
  },
  {
   "cell_type": "code",
   "execution_count": null,
   "metadata": {},
   "outputs": [],
   "source": [
    "tickers = data_without_USD.index.get_level_values('Ticker').unique()\n",
    "noise = 0.0000000001\n",
    "data_without_USD['Returns'] = np.nan \n",
    "data_without_USD['Returns'] = data_without_USD.groupby(['Ticker'])['AdjustedClose'].transform(lambda x: np.log(1+x.pct_change()))\n"
   ]
  },
  {
   "cell_type": "code",
   "execution_count": null,
   "metadata": {},
   "outputs": [],
   "source": [
    "#data_without_USD['Returns_'] = data_without_USD.groupby(['Ticker'])['AdjustedClose','Adj. Open'].transform(lambda x,y: np.log(1+x.pct_change()))\n"
   ]
  },
  {
   "cell_type": "markdown",
   "metadata": {},
   "source": [
    "# Calculate Mean and Standard Deviation of Log - Returns. Mean return is our return estimate."
   ]
  },
  {
   "cell_type": "code",
   "execution_count": null,
   "metadata": {},
   "outputs": [],
   "source": [
    "data_without_USD['Returns_hat'] = data_without_USD.groupby(['Ticker'])['Returns'].transform(lambda x: x.rolling(window=250,min_periods=250).mean().shift(1))\n"
   ]
  },
  {
   "cell_type": "code",
   "execution_count": null,
   "metadata": {},
   "outputs": [],
   "source": [
    "data_without_USD['Returns_Standard_Deviation'] = data_without_USD.groupby(['Ticker'])['Returns'].transform(lambda x: x.rolling(window=250,min_periods=250).std().shift(1))\n"
   ]
  },
  {
   "cell_type": "code",
   "execution_count": null,
   "metadata": {},
   "outputs": [],
   "source": [
    "returns_group = []\n",
    "data_filtered = data_without_USD.reset_index()\n",
    "for ticker in tqdm(idexxx):\n",
    "    ddd = data_filtered[data_filtered['Ticker'] == ticker][['Date','Ticker','Returns']]\n",
    "    #ddd_2 = data_filtered[data_filtered['Ticker'] == ticker][['Date','Ticker','AdjustedClose']]\n",
    "\n",
    "    #print(ddd.tail(5))\n",
    "    if len(ddd) == 0 :\n",
    "        continue\n",
    "    ddd = ddd.set_index(['Date'])\n",
    "    ddd = ddd.pivot(index=ddd.index, columns='Ticker')['Returns']\n",
    "    dicts = ddd.to_dict()\n",
    "    ddd = pd.DataFrame.from_dict(dicts)\n",
    "    returns_group.append(ddd)\n",
    "rrr = pd.concat(returns_group,axis=1)\n",
    "\n",
    "\n",
    "    #print(ddd.tail(5))"
   ]
  },
  {
   "cell_type": "code",
   "execution_count": null,
   "metadata": {},
   "outputs": [],
   "source": [
    "rrr.cumsum()\n",
    "plt.figure()\n",
    "rrr.plot()"
   ]
  },
  {
   "cell_type": "markdown",
   "metadata": {},
   "source": []
  },
  {
   "cell_type": "code",
   "execution_count": null,
   "metadata": {},
   "outputs": [],
   "source": [
    "\"\"\"\n",
    "bitcoin_daily_price['Ticker'] = 'BTC'\n",
    "\"\"\""
   ]
  },
  {
   "cell_type": "code",
   "execution_count": null,
   "metadata": {},
   "outputs": [],
   "source": [
    "\"\"\"\n",
    "yyy = bitcoin_daily_price.pivot(index=bitcoin_daily_price.index,columns='Ticker')['Price']\n",
    "dicts = yyy.to_dict()\n",
    "yyy = pd.DataFrame.from_dict(dicts)\n",
    "yyy\n",
    "\"\"\""
   ]
  },
  {
   "cell_type": "code",
   "execution_count": null,
   "metadata": {},
   "outputs": [],
   "source": [
    "#rrr.index"
   ]
  },
  {
   "cell_type": "code",
   "execution_count": null,
   "metadata": {},
   "outputs": [],
   "source": [
    "#bitcoin_daily_price.index"
   ]
  },
  {
   "cell_type": "code",
   "execution_count": null,
   "metadata": {},
   "outputs": [],
   "source": [
    "\"\"\"\n",
    "idx1 = rrr.index\n",
    "idx2 = yyy.index\n",
    "\n",
    "idex = idx1.intersection(idx2)\n",
    "print(idex)\n",
    "\"\"\""
   ]
  },
  {
   "cell_type": "code",
   "execution_count": null,
   "metadata": {},
   "outputs": [],
   "source": [
    "\"\"\"\n",
    "rrrrrr = rrr[rrr.index.isin(idex)]\n",
    "#yyy = yyy.iloc[idex]\n",
    "#rrrrrr\n",
    "yyy = yyy[yyy.index.isin(idex)]\n",
    "yyy\n",
    "\"\"\""
   ]
  },
  {
   "cell_type": "code",
   "execution_count": null,
   "metadata": {},
   "outputs": [],
   "source": [
    "\"\"\"returns_dataframe = pd.DataFrame(dict([(ticker, \n",
    "                        data_without_USD[data_without_USD.index.get_level_values('Ticker') == ticker]['Returns'])\n",
    "                    for ticker in idx2]))\"\"\""
   ]
  },
  {
   "cell_type": "code",
   "execution_count": null,
   "metadata": {},
   "outputs": [],
   "source": [
    "data_without_USD"
   ]
  },
  {
   "cell_type": "code",
   "execution_count": null,
   "metadata": {},
   "outputs": [],
   "source": [
    "#data_without_USD = data_without_USD[data_without_USD.index.get_level_values('Date').isin(idex)]"
   ]
  },
  {
   "cell_type": "code",
   "execution_count": null,
   "metadata": {},
   "outputs": [],
   "source": [
    "data_without_USD"
   ]
  },
  {
   "cell_type": "markdown",
   "metadata": {},
   "source": [
    "# To limit computational time for the presentation, consider only some stocks"
   ]
  },
  {
   "cell_type": "code",
   "execution_count": null,
   "metadata": {},
   "outputs": [],
   "source": [
    "\"\"\"\n",
    "stock_symbols = stocks.values()\n",
    "stock_symbols\n",
    "flat_list = [item for sublist in stock_symbols for item in sublist]\n",
    "\n",
    "flat_list\n",
    "flat_list = idexxx.intersection(flat_list)\n",
    "flat_list\n",
    "\"\"\"\n"
   ]
  },
  {
   "cell_type": "code",
   "execution_count": null,
   "metadata": {},
   "outputs": [],
   "source": [
    "data_without_USD.reset_index(inplace=True)"
   ]
  },
  {
   "cell_type": "code",
   "execution_count": null,
   "metadata": {},
   "outputs": [],
   "source": [
    "unique_tickers = data_without_USD['Ticker'].unique()\n",
    "unique_tickers = unique_tickers[:80]\n",
    "data_for_only_80_tickers = data_without_USD[data_without_USD['Ticker'].isin(unique_tickers)]\n",
    "data_for_only_80_tickers"
   ]
  },
  {
   "cell_type": "code",
   "execution_count": null,
   "metadata": {},
   "outputs": [],
   "source": [
    "data_filtered = data_for_only_80_tickers.reset_index()\n",
    "\n",
    "returns_column = data_for_only_80_tickers['Returns']\n",
    "returns_group = []\n",
    "returns_group_2 = []\n",
    "return_dict = {}\n",
    "for ticker in tqdm(unique_tickers):\n",
    "    ddd = data_filtered[data_filtered['Ticker'] == ticker][['Date','Ticker','Returns']]\n",
    "    ddd_2 = data_filtered[data_filtered['Ticker'] == ticker][['Date','Ticker','AdjustedClose']]\n",
    "\n",
    "    #print(ddd.tail(5))\n",
    "    if len(ddd) == 0 :\n",
    "        continue\n",
    "    ddd = ddd.set_index(['Date'])\n",
    "    ddd = ddd.pivot(index=ddd.index, columns='Ticker')['Returns']\n",
    "    dicts = ddd.to_dict()\n",
    "    ddd = pd.DataFrame.from_dict(dicts)\n",
    "    #print(ddd.tail(5))\n",
    "    returns_group.append(ddd)\n",
    "    ddd_2 = ddd_2.set_index(['Date'])\n",
    "    ddd_2 = ddd_2.pivot(index=ddd_2.index, columns='Ticker')['AdjustedClose']\n",
    "    dicts = ddd_2.to_dict()\n",
    "    ddd_2 = pd.DataFrame.from_dict(dicts)\n",
    "    #print(ddd.tail(5))\n",
    "    returns_group_2.append(ddd_2)\n",
    "rrr = pd.concat(returns_group,axis=1)\n",
    "data_of_flat_list = pd.concat(returns_group_2,axis=1)               \n"
   ]
  },
  {
   "cell_type": "code",
   "execution_count": 216,
   "metadata": {},
   "outputs": [
    {
     "data": {
      "text/html": [
       "<div>\n",
       "<style scoped>\n",
       "    .dataframe tbody tr th:only-of-type {\n",
       "        vertical-align: middle;\n",
       "    }\n",
       "\n",
       "    .dataframe tbody tr th {\n",
       "        vertical-align: top;\n",
       "    }\n",
       "\n",
       "    .dataframe thead th {\n",
       "        text-align: right;\n",
       "    }\n",
       "</style>\n",
       "<table border=\"1\" class=\"dataframe\">\n",
       "  <thead>\n",
       "    <tr style=\"text-align: right;\">\n",
       "      <th></th>\n",
       "      <th>MMM</th>\n",
       "      <th>ABT</th>\n",
       "      <th>ACN</th>\n",
       "      <th>ATVI</th>\n",
       "      <th>ADBE</th>\n",
       "      <th>AAP</th>\n",
       "      <th>AES</th>\n",
       "      <th>AET</th>\n",
       "      <th>AFL</th>\n",
       "      <th>AMG</th>\n",
       "      <th>...</th>\n",
       "      <th>CAH</th>\n",
       "      <th>HSIC</th>\n",
       "      <th>KMX</th>\n",
       "      <th>CCL</th>\n",
       "      <th>CAT</th>\n",
       "      <th>CBG</th>\n",
       "      <th>CBS</th>\n",
       "      <th>CELG</th>\n",
       "      <th>CNP</th>\n",
       "      <th>CTL</th>\n",
       "    </tr>\n",
       "  </thead>\n",
       "  <tbody>\n",
       "    <tr>\n",
       "      <th>2007-01-03</th>\n",
       "      <td>59.204371</td>\n",
       "      <td>17.582374</td>\n",
       "      <td>29.351687</td>\n",
       "      <td>7.843084</td>\n",
       "      <td>39.92</td>\n",
       "      <td>34.193163</td>\n",
       "      <td>16.859650</td>\n",
       "      <td>39.186880</td>\n",
       "      <td>35.589805</td>\n",
       "      <td>105.626318</td>\n",
       "      <td>...</td>\n",
       "      <td>37.304717</td>\n",
       "      <td>24.445</td>\n",
       "      <td>27.645</td>\n",
       "      <td>38.155721</td>\n",
       "      <td>44.813817</td>\n",
       "      <td>33.65</td>\n",
       "      <td>25.024250</td>\n",
       "      <td>28.600</td>\n",
       "      <td>10.320184</td>\n",
       "      <td>21.027625</td>\n",
       "    </tr>\n",
       "    <tr>\n",
       "      <th>2007-01-04</th>\n",
       "      <td>58.969853</td>\n",
       "      <td>17.916284</td>\n",
       "      <td>30.013270</td>\n",
       "      <td>7.907072</td>\n",
       "      <td>40.82</td>\n",
       "      <td>34.414198</td>\n",
       "      <td>16.867335</td>\n",
       "      <td>38.492337</td>\n",
       "      <td>35.197355</td>\n",
       "      <td>104.479073</td>\n",
       "      <td>...</td>\n",
       "      <td>37.269755</td>\n",
       "      <td>24.450</td>\n",
       "      <td>27.700</td>\n",
       "      <td>38.095810</td>\n",
       "      <td>44.696580</td>\n",
       "      <td>33.34</td>\n",
       "      <td>24.810435</td>\n",
       "      <td>29.020</td>\n",
       "      <td>10.338343</td>\n",
       "      <td>21.013199</td>\n",
       "    </tr>\n",
       "    <tr>\n",
       "      <th>2007-01-05</th>\n",
       "      <td>58.568903</td>\n",
       "      <td>17.916284</td>\n",
       "      <td>29.593729</td>\n",
       "      <td>7.861366</td>\n",
       "      <td>40.62</td>\n",
       "      <td>33.654991</td>\n",
       "      <td>16.383215</td>\n",
       "      <td>37.834348</td>\n",
       "      <td>35.243526</td>\n",
       "      <td>103.641086</td>\n",
       "      <td>...</td>\n",
       "      <td>37.252274</td>\n",
       "      <td>24.205</td>\n",
       "      <td>28.095</td>\n",
       "      <td>37.354413</td>\n",
       "      <td>44.125050</td>\n",
       "      <td>33.10</td>\n",
       "      <td>24.461996</td>\n",
       "      <td>28.790</td>\n",
       "      <td>10.162809</td>\n",
       "      <td>20.989157</td>\n",
       "    </tr>\n",
       "    <tr>\n",
       "      <th>2007-01-08</th>\n",
       "      <td>58.697510</td>\n",
       "      <td>17.980912</td>\n",
       "      <td>30.021338</td>\n",
       "      <td>7.856796</td>\n",
       "      <td>40.45</td>\n",
       "      <td>33.770314</td>\n",
       "      <td>16.152682</td>\n",
       "      <td>37.953152</td>\n",
       "      <td>35.266611</td>\n",
       "      <td>105.007803</td>\n",
       "      <td>...</td>\n",
       "      <td>37.380469</td>\n",
       "      <td>24.085</td>\n",
       "      <td>27.700</td>\n",
       "      <td>37.339436</td>\n",
       "      <td>44.176341</td>\n",
       "      <td>33.22</td>\n",
       "      <td>24.588701</td>\n",
       "      <td>28.650</td>\n",
       "      <td>10.065963</td>\n",
       "      <td>20.868944</td>\n",
       "    </tr>\n",
       "    <tr>\n",
       "      <th>2007-01-09</th>\n",
       "      <td>58.765595</td>\n",
       "      <td>18.031178</td>\n",
       "      <td>29.948725</td>\n",
       "      <td>7.852225</td>\n",
       "      <td>39.63</td>\n",
       "      <td>34.058620</td>\n",
       "      <td>15.491821</td>\n",
       "      <td>37.368273</td>\n",
       "      <td>35.397428</td>\n",
       "      <td>106.025359</td>\n",
       "      <td>...</td>\n",
       "      <td>37.293063</td>\n",
       "      <td>23.300</td>\n",
       "      <td>27.820</td>\n",
       "      <td>37.766301</td>\n",
       "      <td>44.418142</td>\n",
       "      <td>33.97</td>\n",
       "      <td>24.461996</td>\n",
       "      <td>27.425</td>\n",
       "      <td>10.108333</td>\n",
       "      <td>20.777582</td>\n",
       "    </tr>\n",
       "    <tr>\n",
       "      <th>...</th>\n",
       "      <td>...</td>\n",
       "      <td>...</td>\n",
       "      <td>...</td>\n",
       "      <td>...</td>\n",
       "      <td>...</td>\n",
       "      <td>...</td>\n",
       "      <td>...</td>\n",
       "      <td>...</td>\n",
       "      <td>...</td>\n",
       "      <td>...</td>\n",
       "      <td>...</td>\n",
       "      <td>...</td>\n",
       "      <td>...</td>\n",
       "      <td>...</td>\n",
       "      <td>...</td>\n",
       "      <td>...</td>\n",
       "      <td>...</td>\n",
       "      <td>...</td>\n",
       "      <td>...</td>\n",
       "      <td>...</td>\n",
       "      <td>...</td>\n",
       "    </tr>\n",
       "    <tr>\n",
       "      <th>2018-03-21</th>\n",
       "      <td>NaN</td>\n",
       "      <td>62.420000</td>\n",
       "      <td>162.030000</td>\n",
       "      <td>71.610000</td>\n",
       "      <td>226.85</td>\n",
       "      <td>115.240000</td>\n",
       "      <td>10.800000</td>\n",
       "      <td>170.010000</td>\n",
       "      <td>45.370000</td>\n",
       "      <td>192.260000</td>\n",
       "      <td>...</td>\n",
       "      <td>65.690000</td>\n",
       "      <td>65.670</td>\n",
       "      <td>61.510</td>\n",
       "      <td>67.060000</td>\n",
       "      <td>155.800000</td>\n",
       "      <td>NaN</td>\n",
       "      <td>50.870000</td>\n",
       "      <td>88.310</td>\n",
       "      <td>26.840000</td>\n",
       "      <td>16.350000</td>\n",
       "    </tr>\n",
       "    <tr>\n",
       "      <th>2018-03-22</th>\n",
       "      <td>NaN</td>\n",
       "      <td>60.930000</td>\n",
       "      <td>150.230000</td>\n",
       "      <td>69.760000</td>\n",
       "      <td>220.52</td>\n",
       "      <td>111.710000</td>\n",
       "      <td>10.820000</td>\n",
       "      <td>169.450000</td>\n",
       "      <td>44.370000</td>\n",
       "      <td>185.170000</td>\n",
       "      <td>...</td>\n",
       "      <td>63.860000</td>\n",
       "      <td>65.930</td>\n",
       "      <td>60.000</td>\n",
       "      <td>66.200000</td>\n",
       "      <td>146.900000</td>\n",
       "      <td>NaN</td>\n",
       "      <td>50.260000</td>\n",
       "      <td>86.910</td>\n",
       "      <td>26.730000</td>\n",
       "      <td>15.790000</td>\n",
       "    </tr>\n",
       "    <tr>\n",
       "      <th>2018-03-23</th>\n",
       "      <td>NaN</td>\n",
       "      <td>59.500000</td>\n",
       "      <td>147.350000</td>\n",
       "      <td>68.040000</td>\n",
       "      <td>215.02</td>\n",
       "      <td>110.840000</td>\n",
       "      <td>10.720000</td>\n",
       "      <td>168.110000</td>\n",
       "      <td>43.350000</td>\n",
       "      <td>180.920000</td>\n",
       "      <td>...</td>\n",
       "      <td>61.710000</td>\n",
       "      <td>64.590</td>\n",
       "      <td>59.360</td>\n",
       "      <td>64.410000</td>\n",
       "      <td>144.290000</td>\n",
       "      <td>NaN</td>\n",
       "      <td>49.270000</td>\n",
       "      <td>84.980</td>\n",
       "      <td>26.500000</td>\n",
       "      <td>15.520000</td>\n",
       "    </tr>\n",
       "    <tr>\n",
       "      <th>2018-03-26</th>\n",
       "      <td>NaN</td>\n",
       "      <td>61.070000</td>\n",
       "      <td>152.850000</td>\n",
       "      <td>70.080000</td>\n",
       "      <td>228.91</td>\n",
       "      <td>114.770000</td>\n",
       "      <td>10.840000</td>\n",
       "      <td>170.750000</td>\n",
       "      <td>44.090000</td>\n",
       "      <td>188.600000</td>\n",
       "      <td>...</td>\n",
       "      <td>62.100000</td>\n",
       "      <td>65.540</td>\n",
       "      <td>60.590</td>\n",
       "      <td>65.800000</td>\n",
       "      <td>149.190000</td>\n",
       "      <td>NaN</td>\n",
       "      <td>51.690000</td>\n",
       "      <td>87.170</td>\n",
       "      <td>26.840000</td>\n",
       "      <td>16.210000</td>\n",
       "    </tr>\n",
       "    <tr>\n",
       "      <th>2018-03-27</th>\n",
       "      <td>NaN</td>\n",
       "      <td>60.280000</td>\n",
       "      <td>148.860000</td>\n",
       "      <td>66.290000</td>\n",
       "      <td>213.80</td>\n",
       "      <td>115.010000</td>\n",
       "      <td>10.950000</td>\n",
       "      <td>168.360000</td>\n",
       "      <td>43.480000</td>\n",
       "      <td>185.230000</td>\n",
       "      <td>...</td>\n",
       "      <td>61.220000</td>\n",
       "      <td>65.080</td>\n",
       "      <td>59.750</td>\n",
       "      <td>65.730000</td>\n",
       "      <td>146.990000</td>\n",
       "      <td>NaN</td>\n",
       "      <td>52.350000</td>\n",
       "      <td>85.810</td>\n",
       "      <td>27.090000</td>\n",
       "      <td>16.130000</td>\n",
       "    </tr>\n",
       "  </tbody>\n",
       "</table>\n",
       "<p>2827 rows × 80 columns</p>\n",
       "</div>"
      ],
      "text/plain": [
       "                  MMM        ABT         ACN       ATVI    ADBE         AAP  \\\n",
       "2007-01-03  59.204371  17.582374   29.351687   7.843084   39.92   34.193163   \n",
       "2007-01-04  58.969853  17.916284   30.013270   7.907072   40.82   34.414198   \n",
       "2007-01-05  58.568903  17.916284   29.593729   7.861366   40.62   33.654991   \n",
       "2007-01-08  58.697510  17.980912   30.021338   7.856796   40.45   33.770314   \n",
       "2007-01-09  58.765595  18.031178   29.948725   7.852225   39.63   34.058620   \n",
       "...               ...        ...         ...        ...     ...         ...   \n",
       "2018-03-21        NaN  62.420000  162.030000  71.610000  226.85  115.240000   \n",
       "2018-03-22        NaN  60.930000  150.230000  69.760000  220.52  111.710000   \n",
       "2018-03-23        NaN  59.500000  147.350000  68.040000  215.02  110.840000   \n",
       "2018-03-26        NaN  61.070000  152.850000  70.080000  228.91  114.770000   \n",
       "2018-03-27        NaN  60.280000  148.860000  66.290000  213.80  115.010000   \n",
       "\n",
       "                  AES         AET        AFL         AMG  ...        CAH  \\\n",
       "2007-01-03  16.859650   39.186880  35.589805  105.626318  ...  37.304717   \n",
       "2007-01-04  16.867335   38.492337  35.197355  104.479073  ...  37.269755   \n",
       "2007-01-05  16.383215   37.834348  35.243526  103.641086  ...  37.252274   \n",
       "2007-01-08  16.152682   37.953152  35.266611  105.007803  ...  37.380469   \n",
       "2007-01-09  15.491821   37.368273  35.397428  106.025359  ...  37.293063   \n",
       "...               ...         ...        ...         ...  ...        ...   \n",
       "2018-03-21  10.800000  170.010000  45.370000  192.260000  ...  65.690000   \n",
       "2018-03-22  10.820000  169.450000  44.370000  185.170000  ...  63.860000   \n",
       "2018-03-23  10.720000  168.110000  43.350000  180.920000  ...  61.710000   \n",
       "2018-03-26  10.840000  170.750000  44.090000  188.600000  ...  62.100000   \n",
       "2018-03-27  10.950000  168.360000  43.480000  185.230000  ...  61.220000   \n",
       "\n",
       "              HSIC     KMX        CCL         CAT    CBG        CBS    CELG  \\\n",
       "2007-01-03  24.445  27.645  38.155721   44.813817  33.65  25.024250  28.600   \n",
       "2007-01-04  24.450  27.700  38.095810   44.696580  33.34  24.810435  29.020   \n",
       "2007-01-05  24.205  28.095  37.354413   44.125050  33.10  24.461996  28.790   \n",
       "2007-01-08  24.085  27.700  37.339436   44.176341  33.22  24.588701  28.650   \n",
       "2007-01-09  23.300  27.820  37.766301   44.418142  33.97  24.461996  27.425   \n",
       "...            ...     ...        ...         ...    ...        ...     ...   \n",
       "2018-03-21  65.670  61.510  67.060000  155.800000    NaN  50.870000  88.310   \n",
       "2018-03-22  65.930  60.000  66.200000  146.900000    NaN  50.260000  86.910   \n",
       "2018-03-23  64.590  59.360  64.410000  144.290000    NaN  49.270000  84.980   \n",
       "2018-03-26  65.540  60.590  65.800000  149.190000    NaN  51.690000  87.170   \n",
       "2018-03-27  65.080  59.750  65.730000  146.990000    NaN  52.350000  85.810   \n",
       "\n",
       "                  CNP        CTL  \n",
       "2007-01-03  10.320184  21.027625  \n",
       "2007-01-04  10.338343  21.013199  \n",
       "2007-01-05  10.162809  20.989157  \n",
       "2007-01-08  10.065963  20.868944  \n",
       "2007-01-09  10.108333  20.777582  \n",
       "...               ...        ...  \n",
       "2018-03-21  26.840000  16.350000  \n",
       "2018-03-22  26.730000  15.790000  \n",
       "2018-03-23  26.500000  15.520000  \n",
       "2018-03-26  26.840000  16.210000  \n",
       "2018-03-27  27.090000  16.130000  \n",
       "\n",
       "[2827 rows x 80 columns]"
      ]
     },
     "execution_count": 216,
     "metadata": {},
     "output_type": "execute_result"
    }
   ],
   "source": [
    "data_of_flat_list"
   ]
  },
  {
   "cell_type": "code",
   "execution_count": null,
   "metadata": {},
   "outputs": [],
   "source": [
    "#ab = flat_list.append(pd.Index(['BTC']))\n"
   ]
  },
  {
   "cell_type": "code",
   "execution_count": null,
   "metadata": {},
   "outputs": [],
   "source": [
    "#ab"
   ]
  },
  {
   "cell_type": "code",
   "execution_count": null,
   "metadata": {},
   "outputs": [],
   "source": [
    "#frames = [data_of_flat_list,yyy]\n",
    "#data_of_flat_list = pd.concat(frames,axis=1)\n",
    "#data_of_flat_list"
   ]
  },
  {
   "cell_type": "code",
   "execution_count": null,
   "metadata": {},
   "outputs": [],
   "source": [
    "\"\"\"\n",
    "r_hat = rrr.rolling(window=250, min_periods=250).mean().shift(1).dropna()\n",
    "#r_hat\n",
    "#print(r_hat.columns)\n",
    "\"\"\""
   ]
  },
  {
   "cell_type": "code",
   "execution_count": null,
   "metadata": {},
   "outputs": [],
   "source": [
    "#Sigma_hat = rrr.rolling(window=250, min_periods=250, closed='neither').corr().dropna()\n"
   ]
  },
  {
   "cell_type": "code",
   "execution_count": null,
   "metadata": {},
   "outputs": [],
   "source": [
    "#Sigma_hat.tail(len(flat_list))"
   ]
  },
  {
   "cell_type": "code",
   "execution_count": null,
   "metadata": {},
   "outputs": [],
   "source": [
    "\"\"\"\n",
    "mask = np.triu(np.ones_like(Sigma_hat.tail(len(unique_tickers)), dtype=bool))\n",
    "f, ax = plt.subplots(figsize=(11, 9))\n",
    "\n",
    "# Generate a custom diverging colormap\n",
    "cmap = sns.diverging_palette(230, 20, as_cmap=True)\n",
    "\n",
    "# Draw the heatmap with the mask and correct aspect ratio\n",
    "sns.heatmap(Sigma_hat.tail(len(unique_tickers)), mask=mask, cmap=cmap, vmax=1,vmin=-1, center=0,\n",
    "            square=True, linewidths=1, cbar_kws={\"shrink\": .5})\n",
    "\"\"\""
   ]
  },
  {
   "cell_type": "code",
   "execution_count": null,
   "metadata": {},
   "outputs": [],
   "source": [
    "#stocks_and_cryptos = data_of_flat_list.columns\n",
    "#stocks_and_cryptos"
   ]
  },
  {
   "cell_type": "code",
   "execution_count": 217,
   "metadata": {},
   "outputs": [
    {
     "data": {
      "image/png": "[encoded data removed]",
      "text/plain": [
       "<Figure size 1800x504 with 1 Axes>"
      ]
     },
     "metadata": {
      "needs_background": "light"
     },
     "output_type": "display_data"
    }
   ],
   "source": [
    "#data_of_flat_list = data_without_USD[data_without_USD.index.get_level_values('Ticker').isin(flat_list)]\n",
    "herc = HierarchicalEqualRiskContribution()\n",
    "herc.allocate(#asset_names=ab, \n",
    "              asset_prices=data_of_flat_list, \n",
    "              risk_measure=\"variance\", \n",
    "              linkage=\"ward\")\n",
    "# plotting our optimal portfolio\n",
    "herc_weights = herc.weights\n",
    "y_pos = np.arange(len(herc_weights.columns))\n",
    "plt.figure(figsize=(25,7))\n",
    "plt.bar(list(herc_weights.columns), herc_weights.values[0])\n",
    "plt.xticks(y_pos, rotation=45, size=10)\n",
    "plt.xlabel('Assets', size=20)\n",
    "plt.ylabel('Asset Weights', size=20)\n",
    "plt.title('HERC Portfolio Weights', size=20)\n",
    "plt.show()"
   ]
  },
  {
   "cell_type": "code",
   "execution_count": 218,
   "metadata": {},
   "outputs": [
    {
     "data": {
      "image/png": "[encoded data removed]",
      "text/plain": [
       "<Figure size 1224x504 with 1 Axes>"
      ]
     },
     "metadata": {},
     "output_type": "display_data"
    }
   ],
   "source": [
    "plt.figure(figsize=(17,7))\n",
    "herc.plot_clusters(assets=data_of_flat_list.columns)\n",
    "plt.title('HERC Dendrogram', size=18)\n",
    "plt.xticks(rotation=45,fontsize=16)\n",
    "plt.show()"
   ]
  },
  {
   "cell_type": "code",
   "execution_count": null,
   "metadata": {},
   "outputs": [],
   "source": [
    "print(\"Optimal Number of Clusters: \" + str(herc.optimal_num_clusters))\n"
   ]
  },
  {
   "cell_type": "code",
   "execution_count": null,
   "metadata": {},
   "outputs": [],
   "source": [
    "#data_of_flat_list = data_without_USD[data_without_USD.index.get_level_values('Ticker').isin(flat_list)]\n",
    "herc = HierarchicalEqualRiskContribution()\n",
    "herc.allocate(asset_names=ab, \n",
    "              asset_prices=data_of_flat_list, \n",
    "              risk_measure=\"equal_weighting\", \n",
    "              linkage=\"ward\")\n",
    "# plotting our optimal portfolio\n",
    "herc_weights = herc.weights\n",
    "y_pos = np.arange(len(herc_weights.columns))\n",
    "plt.figure(figsize=(25,7))\n",
    "plt.bar(list(herc_weights.columns), herc_weights.values[0])\n",
    "plt.xticks(y_pos, rotation=45, size=10)\n",
    "plt.xlabel('Assets', size=20)\n",
    "plt.ylabel('Asset Weights', size=20)\n",
    "plt.title('HERC Portfolio Weights', size=20)\n",
    "plt.show()"
   ]
  },
  {
   "cell_type": "code",
   "execution_count": null,
   "metadata": {},
   "outputs": [],
   "source": [
    "plt.figure(figsize=(17,7))\n",
    "herc.plot_clusters(assets=data_of_flat_list.columns)\n",
    "plt.title('HERC Dendrogram', size=18)\n",
    "plt.xticks(rotation=45,fontsize=16)\n",
    "plt.show()"
   ]
  },
  {
   "cell_type": "code",
   "execution_count": null,
   "metadata": {},
   "outputs": [],
   "source": [
    "print(\"Optimal Number of Clusters: \" + str(herc.optimal_num_clusters))\n"
   ]
  },
  {
   "cell_type": "code",
   "execution_count": null,
   "metadata": {},
   "outputs": [],
   "source": []
  },
  {
   "cell_type": "code",
   "execution_count": null,
   "metadata": {},
   "outputs": [],
   "source": [
    "#data_of_flat_list = data_without_USD[data_without_USD.index.get_level_values('Ticker').isin(flat_list)]\n",
    "herc = HierarchicalEqualRiskContribution()\n",
    "herc.allocate(asset_names=ab, \n",
    "              asset_prices=data_of_flat_list, \n",
    "              risk_measure=\"expected_shortfall\", \n",
    "              linkage=\"ward\")\n",
    "# plotting our optimal portfolio\n",
    "herc_weights = herc.weights\n",
    "y_pos = np.arange(len(herc_weights.columns))\n",
    "plt.figure(figsize=(25,7))\n",
    "plt.bar(list(herc_weights.columns), herc_weights.values[0])\n",
    "plt.xticks(y_pos, rotation=45, size=10)\n",
    "plt.xlabel('Assets', size=20)\n",
    "plt.ylabel('Asset Weights', size=20)\n",
    "plt.title('HERC Portfolio Weights', size=20)\n",
    "plt.show()"
   ]
  },
  {
   "cell_type": "code",
   "execution_count": null,
   "metadata": {},
   "outputs": [],
   "source": [
    "plt.figure(figsize=(17,7))\n",
    "herc.plot_clusters(assets=data_of_flat_list.columns)\n",
    "plt.title('HERC Dendrogram', size=18)\n",
    "plt.xticks(rotation=45,fontsize=16)\n",
    "plt.show()"
   ]
  },
  {
   "cell_type": "code",
   "execution_count": null,
   "metadata": {},
   "outputs": [],
   "source": [
    "print(\"Optimal Number of Clusters: \" + str(herc.optimal_num_clusters))\n"
   ]
  },
  {
   "cell_type": "code",
   "execution_count": null,
   "metadata": {},
   "outputs": [],
   "source": [
    "#data_of_flat_list = data_without_USD[data_without_USD.index.get_level_values('Ticker').isin(flat_list)]\n",
    "herc = HierarchicalEqualRiskContribution()\n",
    "herc.allocate(asset_names=ab, \n",
    "              asset_prices=data_of_flat_list, \n",
    "              risk_measure=\"expected_shortfall\", \n",
    "              linkage=\"complete\")\n",
    "# plotting our optimal portfolio\n",
    "herc_weights = herc.weights\n",
    "y_pos = np.arange(len(herc_weights.columns))\n",
    "plt.figure(figsize=(25,7))\n",
    "plt.bar(list(herc_weights.columns), herc_weights.values[0])\n",
    "plt.xticks(y_pos, rotation=45, size=10)\n",
    "plt.xlabel('Assets', size=20)\n",
    "plt.ylabel('Asset Weights', size=20)\n",
    "plt.title('HERC Portfolio Weights', size=20)\n",
    "plt.show()"
   ]
  },
  {
   "cell_type": "code",
   "execution_count": null,
   "metadata": {},
   "outputs": [],
   "source": [
    "plt.figure(figsize=(17,7))\n",
    "herc.plot_clusters(assets=data_of_flat_list.columns)\n",
    "plt.title('HERC Dendrogram', size=18)\n",
    "plt.xticks(rotation=45,fontsize=16)\n",
    "plt.show()"
   ]
  },
  {
   "cell_type": "code",
   "execution_count": null,
   "metadata": {},
   "outputs": [],
   "source": [
    "print(\"Optimal Number of Clusters: \" + str(herc.optimal_num_clusters))\n"
   ]
  },
  {
   "cell_type": "code",
   "execution_count": null,
   "metadata": {},
   "outputs": [],
   "source": [
    "#data_of_flat_list = data_without_USD[data_without_USD.index.get_level_values('Ticker').isin(flat_list)]\n",
    "herc = HierarchicalEqualRiskContribution()\n",
    "herc.allocate(asset_names=ab, \n",
    "              asset_prices=data_of_flat_list, \n",
    "              risk_measure=\"variance\", \n",
    "              linkage=\"complete\")\n",
    "# plotting our optimal portfolio\n",
    "herc_weights = herc.weights\n",
    "y_pos = np.arange(len(herc_weights.columns))\n",
    "plt.figure(figsize=(25,7))\n",
    "plt.bar(list(herc_weights.columns), herc_weights.values[0])\n",
    "plt.xticks(y_pos, rotation=45, size=10)\n",
    "plt.xlabel('Assets', size=20)\n",
    "plt.ylabel('Asset Weights', size=20)\n",
    "plt.title('HERC Portfolio Weights', size=20)\n",
    "plt.show()"
   ]
  },
  {
   "cell_type": "code",
   "execution_count": null,
   "metadata": {},
   "outputs": [],
   "source": [
    "plt.figure(figsize=(17,7))\n",
    "herc.plot_clusters(assets=data_of_flat_list.columns)\n",
    "plt.title('HERC Dendrogram', size=18)\n",
    "plt.xticks(rotation=45,fontsize=16)\n",
    "plt.show()"
   ]
  },
  {
   "cell_type": "code",
   "execution_count": null,
   "metadata": {},
   "outputs": [],
   "source": [
    "print(\"Optimal Number of Clusters: \" + str(herc.optimal_num_clusters))\n"
   ]
  },
  {
   "cell_type": "code",
   "execution_count": null,
   "metadata": {},
   "outputs": [],
   "source": [
    "#data_of_flat_list = data_without_USD[data_without_USD.index.get_level_values('Ticker').isin(flat_list)]\n",
    "herc = HierarchicalEqualRiskContribution()\n",
    "herc.allocate(asset_names=ab, \n",
    "              asset_prices=data_of_flat_list, \n",
    "              risk_measure=\"variance\", \n",
    "              linkage=\"single\")\n",
    "# plotting our optimal portfolio\n",
    "herc_weights = herc.weights\n",
    "y_pos = np.arange(len(herc_weights.columns))\n",
    "plt.figure(figsize=(25,7))\n",
    "plt.bar(list(herc_weights.columns), herc_weights.values[0])\n",
    "plt.xticks(y_pos, rotation=45, size=10)\n",
    "plt.xlabel('Assets', size=20)\n",
    "plt.ylabel('Asset Weights', size=20)\n",
    "plt.title('HERC Portfolio Weights', size=20)\n",
    "plt.show()"
   ]
  },
  {
   "cell_type": "code",
   "execution_count": null,
   "metadata": {},
   "outputs": [],
   "source": [
    "plt.figure(figsize=(17,7))\n",
    "herc.plot_clusters(assets=data_of_flat_list.columns)\n",
    "plt.title('HERC Dendrogram', size=18)\n",
    "plt.xticks(rotation=45,fontsize=16)\n",
    "plt.show()"
   ]
  },
  {
   "cell_type": "code",
   "execution_count": null,
   "metadata": {},
   "outputs": [],
   "source": [
    "print(\"Optimal Number of Clusters: \" + str(herc.optimal_num_clusters))\n"
   ]
  },
  {
   "cell_type": "code",
   "execution_count": null,
   "metadata": {},
   "outputs": [],
   "source": []
  },
  {
   "cell_type": "code",
   "execution_count": null,
   "metadata": {},
   "outputs": [],
   "source": []
  },
  {
   "cell_type": "code",
   "execution_count": null,
   "metadata": {},
   "outputs": [],
   "source": []
  },
  {
   "cell_type": "code",
   "execution_count": null,
   "metadata": {},
   "outputs": [],
   "source": []
  },
  {
   "cell_type": "code",
   "execution_count": null,
   "metadata": {},
   "outputs": [],
   "source": []
  },
  {
   "cell_type": "code",
   "execution_count": null,
   "metadata": {},
   "outputs": [],
   "source": []
  },
  {
   "cell_type": "code",
   "execution_count": null,
   "metadata": {},
   "outputs": [],
   "source": []
  },
  {
   "cell_type": "code",
   "execution_count": null,
   "metadata": {},
   "outputs": [],
   "source": []
  },
  {
   "cell_type": "code",
   "execution_count": null,
   "metadata": {},
   "outputs": [],
   "source": []
  },
  {
   "cell_type": "code",
   "execution_count": null,
   "metadata": {},
   "outputs": [],
   "source": []
  },
  {
   "cell_type": "code",
   "execution_count": null,
   "metadata": {},
   "outputs": [],
   "source": []
  },
  {
   "cell_type": "code",
   "execution_count": null,
   "metadata": {},
   "outputs": [],
   "source": []
  },
  {
   "cell_type": "code",
   "execution_count": null,
   "metadata": {},
   "outputs": [],
   "source": [
    "bitcoin_daily_price = pd.read_csv('/Users/ankitaggarwal/Downloads/Bitcoin Historical Data - Investing.com (1).csv')"
   ]
  },
  {
   "cell_type": "code",
   "execution_count": null,
   "metadata": {},
   "outputs": [],
   "source": [
    "bitcoin_daily_price.shape"
   ]
  },
  {
   "cell_type": "code",
   "execution_count": null,
   "metadata": {},
   "outputs": [],
   "source": [
    "bitcoin_daily_price['Date'] = pd.to_datetime(bitcoin_daily_price['Date'],dayfirst=False,yearfirst=False)\n",
    "bitcoin_daily_price['Date']"
   ]
  },
  {
   "cell_type": "code",
   "execution_count": null,
   "metadata": {},
   "outputs": [],
   "source": [
    "nan_rows = bitcoin_daily_price[bitcoin_daily_price.isnull().T.any()]\n",
    "idx1 = nan_rows.index\n",
    "nan_rows\n",
    "#idx2 = bitcoin_daily_price.index.get_level_values('Ticker').unique()\n",
    "#idex = idx1.intersection(idx2)\n",
    "#data_without_USD = data_without_USD[~data_without_USD.index.get_level_values('Ticker').isin(idex)]"
   ]
  },
  {
   "cell_type": "code",
   "execution_count": null,
   "metadata": {},
   "outputs": [],
   "source": [
    "#bitcoin_daily_price['Returns'] = np.nan\n",
    "bitcoin_daily_price = bitcoin_daily_price.sort_values(by='Date')\n",
    "bitcoin_daily_price['Price'] = bitcoin_daily_price['Price'].replace(',','', regex=True)\n",
    "bitcoin_daily_price['Price'] = bitcoin_daily_price['Price'].astype(float)\n",
    "bitcoin_daily_price['Returns'] = bitcoin_daily_price['Price'].transform(lambda x: np.log(1+x.pct_change()))\n",
    "bitcoin_daily_price"
   ]
  },
  {
   "cell_type": "code",
   "execution_count": null,
   "metadata": {},
   "outputs": [],
   "source": [
    "bitcoin_daily_price.head(5)"
   ]
  },
  {
   "cell_type": "code",
   "execution_count": null,
   "metadata": {},
   "outputs": [],
   "source": [
    "bitcoin_daily_price['Returns_hat'] = bitcoin_daily_price['Returns'].transform(lambda x: x.rolling(window=250,min_periods=250).mean().shift(1))\n"
   ]
  },
  {
   "cell_type": "code",
   "execution_count": null,
   "metadata": {},
   "outputs": [],
   "source": [
    "bitcoin_daily_price['Returns_Standard_Deviation'] = bitcoin_daily_price['Returns'].transform(lambda x: x.rolling(window=250,min_periods=250).std().shift(1))\n"
   ]
  },
  {
   "cell_type": "code",
   "execution_count": null,
   "metadata": {},
   "outputs": [],
   "source": [
    "bitcoin_daily_price = bitcoin_daily_price.set_index('Date')"
   ]
  },
  {
   "cell_type": "code",
   "execution_count": null,
   "metadata": {},
   "outputs": [],
   "source": [
    "btc_returns = bitcoin_daily_price['Returns'].cumsum()\n",
    "plt.figure()\n",
    "btc_returns.plot()"
   ]
  },
  {
   "cell_type": "code",
   "execution_count": null,
   "metadata": {},
   "outputs": [],
   "source": []
  },
  {
   "cell_type": "code",
   "execution_count": null,
   "metadata": {},
   "outputs": [],
   "source": [
    "out_of_sample = pd.read_csv('/Users/ankitaggarwal/Documents/AMS 691.03 ML in QF/ML in QF Project/data/Stocks_Test_data.csv')\n"
   ]
  },
  {
   "cell_type": "code",
   "execution_count": null,
   "metadata": {},
   "outputs": [],
   "source": [
    "train_dataset = pd.read_csv('/Users/ankitaggarwal/Documents/AMS 691.03 ML in QF/ML in QF Project/data/Stocks_Train_data.csv')\n",
    "validation_dataset = pd.read_csv('/Users/ankitaggarwal/Documents/AMS 691.03 ML in QF/ML in QF Project/data/Stocks_Validation_data.csv')\n"
   ]
  },
  {
   "cell_type": "code",
   "execution_count": 209,
   "metadata": {},
   "outputs": [],
   "source": [
    "def returns_pivot(dataset,unique_tickers):\n",
    "    data_filtered = train_dataset.reset_index()\n",
    "\n",
    "    returns_column = train_dataset['Returns_from_adjusted_closed_to_adjusted_closed']\n",
    "    returns_group = []\n",
    "    returns_group_2 = []\n",
    "    return_dict = {}\n",
    "    for ticker in tqdm(unique_tickers):\n",
    "        ddd = data_filtered[data_filtered['Ticker'] == ticker][['Date','Ticker','Returns_from_adjusted_closed_to_adjusted_closed']]\n",
    "        ddd_2 = data_filtered[data_filtered['Ticker'] == ticker][['Date','Ticker','AdjustedClose']]\n",
    "        ddd = ddd[:550]\n",
    "        ddd_2 = ddd_2[:550]\n",
    "        #print(ddd.tail(5))\n",
    "        if len(ddd) == 0 :\n",
    "            continue\n",
    "        ddd = ddd.set_index(['Date'])\n",
    "        ddd = ddd.pivot(index=ddd.index, columns='Ticker')['Returns_from_adjusted_closed_to_adjusted_closed']\n",
    "        dicts = ddd.to_dict()\n",
    "        ddd = pd.DataFrame.from_dict(dicts)\n",
    "        #print(ddd.tail(5))\n",
    "        returns_group.append(ddd)\n",
    "        ddd_2 = ddd_2.set_index(['Date'])\n",
    "        ddd_2 = ddd_2.pivot(index=ddd_2.index, columns='Ticker')['AdjustedClose']\n",
    "        dicts = ddd_2.to_dict()\n",
    "        ddd_2 = pd.DataFrame.from_dict(dicts)\n",
    "        #print(ddd.tail(5))\n",
    "        returns_group_2.append(ddd_2)\n",
    "    rrr = pd.concat(returns_group,axis=1)\n",
    "    data_of_flat_list = pd.concat(returns_group_2,axis=1) \n",
    "    print(data_of_flat_list.index)\n",
    "    return data_of_flat_list\n"
   ]
  },
  {
   "cell_type": "code",
   "execution_count": 210,
   "metadata": {},
   "outputs": [
    {
     "name": "stderr",
     "output_type": "stream",
     "text": [
      "100%|██████████| 80/80 [00:05<00:00, 13.44it/s]"
     ]
    },
    {
     "name": "stdout",
     "output_type": "stream",
     "text": [
      "Index(['2007-06-14', '2007-06-15', '2007-06-18', '2007-06-19', '2007-06-20',\n",
      "       '2007-06-21', '2007-06-22', '2007-06-25', '2007-06-26', '2007-06-27',\n",
      "       ...\n",
      "       '2009-08-05', '2009-08-06', '2009-08-07', '2009-08-10', '2009-08-11',\n",
      "       '2009-08-12', '2009-08-13', '2009-08-14', '2009-08-17', '2009-08-18'],\n",
      "      dtype='object', length=550)\n"
     ]
    },
    {
     "name": "stderr",
     "output_type": "stream",
     "text": [
      "\n"
     ]
    }
   ],
   "source": [
    "data_in_sample = returns_pivot(train_dataset,unique_tickers)"
   ]
  },
  {
   "cell_type": "code",
   "execution_count": 211,
   "metadata": {},
   "outputs": [],
   "source": [
    "data_in_sample.index = pd.to_datetime(data_in_sample.index)\n"
   ]
  },
  {
   "cell_type": "code",
   "execution_count": 212,
   "metadata": {},
   "outputs": [],
   "source": [
    "#data_in_sample.index "
   ]
  },
  {
   "cell_type": "code",
   "execution_count": 213,
   "metadata": {},
   "outputs": [
    {
     "data": {
      "image/png": "[encoded data removed]",
      "text/plain": [
       "<Figure size 1800x504 with 1 Axes>"
      ]
     },
     "metadata": {
      "needs_background": "light"
     },
     "output_type": "display_data"
    }
   ],
   "source": [
    "#data_of_flat_list = data_without_USD[data_without_USD.index.get_level_values('Ticker').isin(flat_list)]\n",
    "herc = HierarchicalEqualRiskContribution()\n",
    "herc.allocate(#asset_names=ab, \n",
    "              asset_prices=data_in_sample, \n",
    "              risk_measure=\"variance\", \n",
    "              linkage=\"ward\")\n",
    "# plotting our optimal portfolio\n",
    "herc_weights = herc.weights\n",
    "y_pos = np.arange(len(herc_weights.columns))\n",
    "plt.figure(figsize=(25,7))\n",
    "plt.bar(list(herc_weights.columns), herc_weights.values[0])\n",
    "plt.xticks(y_pos, rotation=45, size=10)\n",
    "plt.xlabel('Assets', size=20)\n",
    "plt.ylabel('Asset Weights', size=20)\n",
    "plt.title('HERC Portfolio Weights', size=20)\n",
    "plt.show()"
   ]
  },
  {
   "cell_type": "code",
   "execution_count": 214,
   "metadata": {},
   "outputs": [],
   "source": [
    "herc_weights_2 = herc_weights.copy()"
   ]
  },
  {
   "cell_type": "code",
   "execution_count": null,
   "metadata": {},
   "outputs": [],
   "source": [
    "#out_of_sample"
   ]
  },
  {
   "cell_type": "code",
   "execution_count": 141,
   "metadata": {},
   "outputs": [
    {
     "data": {
      "text/html": [
       "<div>\n",
       "<style scoped>\n",
       "    .dataframe tbody tr th:only-of-type {\n",
       "        vertical-align: middle;\n",
       "    }\n",
       "\n",
       "    .dataframe tbody tr th {\n",
       "        vertical-align: top;\n",
       "    }\n",
       "\n",
       "    .dataframe thead th {\n",
       "        text-align: right;\n",
       "    }\n",
       "</style>\n",
       "<table border=\"1\" class=\"dataframe\">\n",
       "  <thead>\n",
       "    <tr style=\"text-align: right;\">\n",
       "      <th></th>\n",
       "      <th>Date</th>\n",
       "      <th>Ticker</th>\n",
       "      <th>Open</th>\n",
       "      <th>High</th>\n",
       "      <th>Low</th>\n",
       "      <th>Close</th>\n",
       "      <th>Volume</th>\n",
       "      <th>Ex-Dividend</th>\n",
       "      <th>Split Ratio</th>\n",
       "      <th>Adj. Open</th>\n",
       "      <th>Adj. High</th>\n",
       "      <th>Adj. Low</th>\n",
       "      <th>AdjustedClose</th>\n",
       "      <th>Adj. Volume</th>\n",
       "      <th>Returns_from_adjusted_closed_to_adjusted_closed</th>\n",
       "    </tr>\n",
       "  </thead>\n",
       "  <tbody>\n",
       "    <tr>\n",
       "      <th>0</th>\n",
       "      <td>2015-03-20</td>\n",
       "      <td>MMM</td>\n",
       "      <td>166.09</td>\n",
       "      <td>167.134</td>\n",
       "      <td>165.39</td>\n",
       "      <td>166.49</td>\n",
       "      <td>4371778.0</td>\n",
       "      <td>0.0</td>\n",
       "      <td>1.0</td>\n",
       "      <td>155.713035</td>\n",
       "      <td>156.691808</td>\n",
       "      <td>155.056770</td>\n",
       "      <td>156.088044</td>\n",
       "      <td>4371778.0</td>\n",
       "      <td>NaN</td>\n",
       "    </tr>\n",
       "    <tr>\n",
       "      <th>1</th>\n",
       "      <td>2015-03-23</td>\n",
       "      <td>MMM</td>\n",
       "      <td>166.83</td>\n",
       "      <td>166.905</td>\n",
       "      <td>165.83</td>\n",
       "      <td>166.13</td>\n",
       "      <td>2155702.0</td>\n",
       "      <td>0.0</td>\n",
       "      <td>1.0</td>\n",
       "      <td>156.406802</td>\n",
       "      <td>156.477116</td>\n",
       "      <td>155.469280</td>\n",
       "      <td>155.750536</td>\n",
       "      <td>2155702.0</td>\n",
       "      <td>-0.002165</td>\n",
       "    </tr>\n",
       "    <tr>\n",
       "      <th>2</th>\n",
       "      <td>2015-03-24</td>\n",
       "      <td>MMM</td>\n",
       "      <td>165.58</td>\n",
       "      <td>167.650</td>\n",
       "      <td>165.53</td>\n",
       "      <td>166.32</td>\n",
       "      <td>2090967.0</td>\n",
       "      <td>0.0</td>\n",
       "      <td>1.0</td>\n",
       "      <td>155.234899</td>\n",
       "      <td>157.175570</td>\n",
       "      <td>155.188023</td>\n",
       "      <td>155.928666</td>\n",
       "      <td>2090967.0</td>\n",
       "      <td>0.001143</td>\n",
       "    </tr>\n",
       "    <tr>\n",
       "      <th>3</th>\n",
       "      <td>2015-03-25</td>\n",
       "      <td>MMM</td>\n",
       "      <td>166.24</td>\n",
       "      <td>166.520</td>\n",
       "      <td>162.66</td>\n",
       "      <td>162.70</td>\n",
       "      <td>2540422.0</td>\n",
       "      <td>0.0</td>\n",
       "      <td>1.0</td>\n",
       "      <td>155.853664</td>\n",
       "      <td>156.116170</td>\n",
       "      <td>152.497335</td>\n",
       "      <td>152.534836</td>\n",
       "      <td>2540422.0</td>\n",
       "      <td>-0.022006</td>\n",
       "    </tr>\n",
       "    <tr>\n",
       "      <th>4</th>\n",
       "      <td>2015-03-26</td>\n",
       "      <td>MMM</td>\n",
       "      <td>162.00</td>\n",
       "      <td>163.370</td>\n",
       "      <td>161.21</td>\n",
       "      <td>162.59</td>\n",
       "      <td>2050735.0</td>\n",
       "      <td>0.0</td>\n",
       "      <td>1.0</td>\n",
       "      <td>151.878570</td>\n",
       "      <td>153.162976</td>\n",
       "      <td>151.137928</td>\n",
       "      <td>152.431708</td>\n",
       "      <td>2050735.0</td>\n",
       "      <td>-0.000676</td>\n",
       "    </tr>\n",
       "    <tr>\n",
       "      <th>...</th>\n",
       "      <td>...</td>\n",
       "      <td>...</td>\n",
       "      <td>...</td>\n",
       "      <td>...</td>\n",
       "      <td>...</td>\n",
       "      <td>...</td>\n",
       "      <td>...</td>\n",
       "      <td>...</td>\n",
       "      <td>...</td>\n",
       "      <td>...</td>\n",
       "      <td>...</td>\n",
       "      <td>...</td>\n",
       "      <td>...</td>\n",
       "      <td>...</td>\n",
       "      <td>...</td>\n",
       "    </tr>\n",
       "    <tr>\n",
       "      <th>39035</th>\n",
       "      <td>2017-02-17</td>\n",
       "      <td>CTL</td>\n",
       "      <td>24.24</td>\n",
       "      <td>24.290</td>\n",
       "      <td>24.10</td>\n",
       "      <td>24.28</td>\n",
       "      <td>5122976.0</td>\n",
       "      <td>0.0</td>\n",
       "      <td>1.0</td>\n",
       "      <td>22.603761</td>\n",
       "      <td>22.650385</td>\n",
       "      <td>22.473211</td>\n",
       "      <td>22.641060</td>\n",
       "      <td>5122976.0</td>\n",
       "      <td>0.000000</td>\n",
       "    </tr>\n",
       "    <tr>\n",
       "      <th>39036</th>\n",
       "      <td>2017-02-21</td>\n",
       "      <td>CTL</td>\n",
       "      <td>24.30</td>\n",
       "      <td>24.710</td>\n",
       "      <td>24.29</td>\n",
       "      <td>24.67</td>\n",
       "      <td>6843331.0</td>\n",
       "      <td>0.0</td>\n",
       "      <td>1.0</td>\n",
       "      <td>22.659710</td>\n",
       "      <td>23.042035</td>\n",
       "      <td>22.650385</td>\n",
       "      <td>23.004735</td>\n",
       "      <td>6843331.0</td>\n",
       "      <td>0.015935</td>\n",
       "    </tr>\n",
       "    <tr>\n",
       "      <th>39037</th>\n",
       "      <td>2017-02-22</td>\n",
       "      <td>CTL</td>\n",
       "      <td>24.74</td>\n",
       "      <td>24.930</td>\n",
       "      <td>24.64</td>\n",
       "      <td>24.83</td>\n",
       "      <td>6431600.0</td>\n",
       "      <td>0.0</td>\n",
       "      <td>1.0</td>\n",
       "      <td>23.070010</td>\n",
       "      <td>23.247184</td>\n",
       "      <td>22.976760</td>\n",
       "      <td>23.153935</td>\n",
       "      <td>6431600.0</td>\n",
       "      <td>0.006465</td>\n",
       "    </tr>\n",
       "    <tr>\n",
       "      <th>39038</th>\n",
       "      <td>2017-02-23</td>\n",
       "      <td>CTL</td>\n",
       "      <td>24.89</td>\n",
       "      <td>24.970</td>\n",
       "      <td>24.56</td>\n",
       "      <td>24.71</td>\n",
       "      <td>6597988.0</td>\n",
       "      <td>0.0</td>\n",
       "      <td>1.0</td>\n",
       "      <td>23.209884</td>\n",
       "      <td>23.284484</td>\n",
       "      <td>22.902160</td>\n",
       "      <td>23.042035</td>\n",
       "      <td>6597988.0</td>\n",
       "      <td>-0.004845</td>\n",
       "    </tr>\n",
       "    <tr>\n",
       "      <th>39039</th>\n",
       "      <td>2017-02-24</td>\n",
       "      <td>CTL</td>\n",
       "      <td>24.63</td>\n",
       "      <td>24.730</td>\n",
       "      <td>24.43</td>\n",
       "      <td>24.58</td>\n",
       "      <td>6056442.0</td>\n",
       "      <td>0.0</td>\n",
       "      <td>1.0</td>\n",
       "      <td>22.967435</td>\n",
       "      <td>23.060685</td>\n",
       "      <td>22.780935</td>\n",
       "      <td>22.920810</td>\n",
       "      <td>6056442.0</td>\n",
       "      <td>-0.005275</td>\n",
       "    </tr>\n",
       "  </tbody>\n",
       "</table>\n",
       "<p>39040 rows × 15 columns</p>\n",
       "</div>"
      ],
      "text/plain": [
       "             Date Ticker    Open     High     Low   Close     Volume  \\\n",
       "0      2015-03-20    MMM  166.09  167.134  165.39  166.49  4371778.0   \n",
       "1      2015-03-23    MMM  166.83  166.905  165.83  166.13  2155702.0   \n",
       "2      2015-03-24    MMM  165.58  167.650  165.53  166.32  2090967.0   \n",
       "3      2015-03-25    MMM  166.24  166.520  162.66  162.70  2540422.0   \n",
       "4      2015-03-26    MMM  162.00  163.370  161.21  162.59  2050735.0   \n",
       "...           ...    ...     ...      ...     ...     ...        ...   \n",
       "39035  2017-02-17    CTL   24.24   24.290   24.10   24.28  5122976.0   \n",
       "39036  2017-02-21    CTL   24.30   24.710   24.29   24.67  6843331.0   \n",
       "39037  2017-02-22    CTL   24.74   24.930   24.64   24.83  6431600.0   \n",
       "39038  2017-02-23    CTL   24.89   24.970   24.56   24.71  6597988.0   \n",
       "39039  2017-02-24    CTL   24.63   24.730   24.43   24.58  6056442.0   \n",
       "\n",
       "       Ex-Dividend  Split Ratio   Adj. Open   Adj. High    Adj. Low  \\\n",
       "0              0.0          1.0  155.713035  156.691808  155.056770   \n",
       "1              0.0          1.0  156.406802  156.477116  155.469280   \n",
       "2              0.0          1.0  155.234899  157.175570  155.188023   \n",
       "3              0.0          1.0  155.853664  156.116170  152.497335   \n",
       "4              0.0          1.0  151.878570  153.162976  151.137928   \n",
       "...            ...          ...         ...         ...         ...   \n",
       "39035          0.0          1.0   22.603761   22.650385   22.473211   \n",
       "39036          0.0          1.0   22.659710   23.042035   22.650385   \n",
       "39037          0.0          1.0   23.070010   23.247184   22.976760   \n",
       "39038          0.0          1.0   23.209884   23.284484   22.902160   \n",
       "39039          0.0          1.0   22.967435   23.060685   22.780935   \n",
       "\n",
       "       AdjustedClose  Adj. Volume  \\\n",
       "0         156.088044    4371778.0   \n",
       "1         155.750536    2155702.0   \n",
       "2         155.928666    2090967.0   \n",
       "3         152.534836    2540422.0   \n",
       "4         152.431708    2050735.0   \n",
       "...              ...          ...   \n",
       "39035      22.641060    5122976.0   \n",
       "39036      23.004735    6843331.0   \n",
       "39037      23.153935    6431600.0   \n",
       "39038      23.042035    6597988.0   \n",
       "39039      22.920810    6056442.0   \n",
       "\n",
       "       Returns_from_adjusted_closed_to_adjusted_closed  \n",
       "0                                                  NaN  \n",
       "1                                            -0.002165  \n",
       "2                                             0.001143  \n",
       "3                                            -0.022006  \n",
       "4                                            -0.000676  \n",
       "...                                                ...  \n",
       "39035                                         0.000000  \n",
       "39036                                         0.015935  \n",
       "39037                                         0.006465  \n",
       "39038                                        -0.004845  \n",
       "39039                                        -0.005275  \n",
       "\n",
       "[39040 rows x 15 columns]"
      ]
     },
     "execution_count": 141,
     "metadata": {},
     "output_type": "execute_result"
    }
   ],
   "source": [
    "unique_tickers = out_of_sample['Ticker'].unique()\n",
    "unique_tickers = unique_tickers[:80]\n",
    "out_of_sampleonly_80_tickers = out_of_sample[out_of_sample['Ticker'].isin(unique_tickers)]\n",
    "out_of_sampleonly_80_tickers"
   ]
  },
  {
   "cell_type": "code",
   "execution_count": 167,
   "metadata": {},
   "outputs": [
    {
     "name": "stderr",
     "output_type": "stream",
     "text": [
      "100%|██████████| 80/80 [00:00<00:00, 81.82it/s]\n"
     ]
    }
   ],
   "source": [
    "list_of_out_of_sample_mean_returns = []\n",
    "for ticker in tqdm(unique_tickers):\n",
    "    out_of_sample_ticker = out_of_sample[out_of_sample['Ticker'] == ticker]\n",
    "    mean_return = out_of_sample_ticker['Returns_from_adjusted_closed_to_adjusted_closed'].mean()\n",
    "    #print(mean_return,ticker)\n",
    "    weighted_mean_return = mean_return*herc_weights[ticker].values[0]\n",
    "    dict_return = {'Ticker':ticker,'Mean_Return':mean_return,'Weighted_Mean_Return':weighted_mean_return} \n",
    "    list_of_out_of_sample_mean_returns.append(dict_return)#,columns=ticker\n",
    "list_of_out_of_sample_mean_returns_dataframe = pd.DataFrame(list_of_out_of_sample_mean_returns)"
   ]
  },
  {
   "cell_type": "code",
   "execution_count": 171,
   "metadata": {},
   "outputs": [
    {
     "data": {
      "text/html": [
       "<div>\n",
       "<style scoped>\n",
       "    .dataframe tbody tr th:only-of-type {\n",
       "        vertical-align: middle;\n",
       "    }\n",
       "\n",
       "    .dataframe tbody tr th {\n",
       "        vertical-align: top;\n",
       "    }\n",
       "\n",
       "    .dataframe thead th {\n",
       "        text-align: right;\n",
       "    }\n",
       "</style>\n",
       "<table border=\"1\" class=\"dataframe\">\n",
       "  <thead>\n",
       "    <tr style=\"text-align: right;\">\n",
       "      <th></th>\n",
       "      <th>Ticker</th>\n",
       "      <th>Mean_Return</th>\n",
       "      <th>Weighted_Mean_Return</th>\n",
       "    </tr>\n",
       "  </thead>\n",
       "  <tbody>\n",
       "    <tr>\n",
       "      <th>0</th>\n",
       "      <td>MMM</td>\n",
       "      <td>0.000351</td>\n",
       "      <td>1.943302e-06</td>\n",
       "    </tr>\n",
       "    <tr>\n",
       "      <th>1</th>\n",
       "      <td>ABT</td>\n",
       "      <td>0.000018</td>\n",
       "      <td>3.699971e-07</td>\n",
       "    </tr>\n",
       "    <tr>\n",
       "      <th>2</th>\n",
       "      <td>ACN</td>\n",
       "      <td>0.000700</td>\n",
       "      <td>2.880693e-06</td>\n",
       "    </tr>\n",
       "    <tr>\n",
       "      <th>3</th>\n",
       "      <td>ATVI</td>\n",
       "      <td>0.001403</td>\n",
       "      <td>3.526277e-06</td>\n",
       "    </tr>\n",
       "    <tr>\n",
       "      <th>4</th>\n",
       "      <td>ADBE</td>\n",
       "      <td>0.000890</td>\n",
       "      <td>2.217996e-06</td>\n",
       "    </tr>\n",
       "    <tr>\n",
       "      <th>...</th>\n",
       "      <td>...</td>\n",
       "      <td>...</td>\n",
       "      <td>...</td>\n",
       "    </tr>\n",
       "    <tr>\n",
       "      <th>75</th>\n",
       "      <td>CBG</td>\n",
       "      <td>-0.000087</td>\n",
       "      <td>-5.847980e-08</td>\n",
       "    </tr>\n",
       "    <tr>\n",
       "      <th>76</th>\n",
       "      <td>CBS</td>\n",
       "      <td>0.000157</td>\n",
       "      <td>2.633182e-07</td>\n",
       "    </tr>\n",
       "    <tr>\n",
       "      <th>77</th>\n",
       "      <td>CELG</td>\n",
       "      <td>-0.000171</td>\n",
       "      <td>-2.736601e-06</td>\n",
       "    </tr>\n",
       "    <tr>\n",
       "      <th>78</th>\n",
       "      <td>CNP</td>\n",
       "      <td>0.000702</td>\n",
       "      <td>5.037335e-05</td>\n",
       "    </tr>\n",
       "    <tr>\n",
       "      <th>79</th>\n",
       "      <td>CTL</td>\n",
       "      <td>-0.000468</td>\n",
       "      <td>-2.892884e-05</td>\n",
       "    </tr>\n",
       "  </tbody>\n",
       "</table>\n",
       "<p>80 rows × 3 columns</p>\n",
       "</div>"
      ],
      "text/plain": [
       "   Ticker  Mean_Return  Weighted_Mean_Return\n",
       "0     MMM     0.000351          1.943302e-06\n",
       "1     ABT     0.000018          3.699971e-07\n",
       "2     ACN     0.000700          2.880693e-06\n",
       "3    ATVI     0.001403          3.526277e-06\n",
       "4    ADBE     0.000890          2.217996e-06\n",
       "..    ...          ...                   ...\n",
       "75    CBG    -0.000087         -5.847980e-08\n",
       "76    CBS     0.000157          2.633182e-07\n",
       "77   CELG    -0.000171         -2.736601e-06\n",
       "78    CNP     0.000702          5.037335e-05\n",
       "79    CTL    -0.000468         -2.892884e-05\n",
       "\n",
       "[80 rows x 3 columns]"
      ]
     },
     "execution_count": 171,
     "metadata": {},
     "output_type": "execute_result"
    }
   ],
   "source": [
    "list_of_out_of_sample_mean_returns_dataframe"
   ]
  },
  {
   "cell_type": "code",
   "execution_count": null,
   "metadata": {},
   "outputs": [],
   "source": []
  },
  {
   "cell_type": "code",
   "execution_count": null,
   "metadata": {},
   "outputs": [],
   "source": [
    "list_of_dataframes = []\n",
    "for ticker in tqdm(unique_tickers):\n",
    "    out_of_sample_ticker = out_of_sample[out_of_sample['Ticker'] == ticker]\n",
    "    out_of_sample_ticker_return = out_of_sample_ticker['Returns_from_adjusted_closed_to_adjusted_closed'] * herc_weights[ticker]\n",
    "    print(out_of_sample_ticker_return)\n",
    "    out_of_sample_ticker['Weighted_Returns_from_adjusted_closed_to_adjusted_closed'] = out_of_sample_ticker_return\n",
    "    list_of_dataframes.append(out_of_sample_ticker)\n",
    "print(pd.concat(list_of_dataframes,axis=0))"
   ]
  },
  {
   "cell_type": "code",
   "execution_count": null,
   "metadata": {},
   "outputs": [],
   "source": [
    "out_of_sample_ticker"
   ]
  },
  {
   "cell_type": "code",
   "execution_count": null,
   "metadata": {},
   "outputs": [],
   "source": []
  },
  {
   "cell_type": "code",
   "execution_count": null,
   "metadata": {},
   "outputs": [],
   "source": []
  },
  {
   "cell_type": "code",
   "execution_count": null,
   "metadata": {},
   "outputs": [],
   "source": []
  },
  {
   "cell_type": "code",
   "execution_count": null,
   "metadata": {},
   "outputs": [],
   "source": []
  },
  {
   "cell_type": "code",
   "execution_count": null,
   "metadata": {},
   "outputs": [],
   "source": []
  },
  {
   "cell_type": "code",
   "execution_count": null,
   "metadata": {},
   "outputs": [],
   "source": []
  },
  {
   "cell_type": "code",
   "execution_count": null,
   "metadata": {},
   "outputs": [],
   "source": []
  },
  {
   "cell_type": "code",
   "execution_count": null,
   "metadata": {},
   "outputs": [],
   "source": []
  },
  {
   "cell_type": "code",
   "execution_count": null,
   "metadata": {},
   "outputs": [],
   "source": []
  },
  {
   "cell_type": "code",
   "execution_count": null,
   "metadata": {},
   "outputs": [],
   "source": []
  },
  {
   "cell_type": "code",
   "execution_count": null,
   "metadata": {},
   "outputs": [],
   "source": []
  },
  {
   "cell_type": "code",
   "execution_count": null,
   "metadata": {},
   "outputs": [],
   "source": []
  },
  {
   "cell_type": "code",
   "execution_count": null,
   "metadata": {},
   "outputs": [],
   "source": []
  },
  {
   "cell_type": "code",
   "execution_count": null,
   "metadata": {},
   "outputs": [],
   "source": []
  },
  {
   "cell_type": "code",
   "execution_count": null,
   "metadata": {},
   "outputs": [],
   "source": []
  },
  {
   "cell_type": "code",
   "execution_count": null,
   "metadata": {},
   "outputs": [],
   "source": []
  },
  {
   "cell_type": "code",
   "execution_count": null,
   "metadata": {},
   "outputs": [],
   "source": []
  },
  {
   "cell_type": "code",
   "execution_count": null,
   "metadata": {},
   "outputs": [],
   "source": []
  },
  {
   "cell_type": "code",
   "execution_count": null,
   "metadata": {},
   "outputs": [],
   "source": []
  },
  {
   "cell_type": "code",
   "execution_count": null,
   "metadata": {},
   "outputs": [],
   "source": []
  },
  {
   "cell_type": "code",
   "execution_count": null,
   "metadata": {},
   "outputs": [],
   "source": [
    "#returns_group = pd.concat(returns_group)"
   ]
  },
  {
   "cell_type": "code",
   "execution_count": null,
   "metadata": {},
   "outputs": [],
   "source": [
    "\"\"\"\n",
    "r_hat = returns.rolling(window=250, min_periods=250).mean().shift(1).dropna()\n",
    "Sigma_hat = returns.rolling(window=250, min_periods=250, closed='neither').cov().dropna()\n",
    "\n",
    "r_hat.tail()\n",
    "\"\"\""
   ]
  },
  {
   "cell_type": "code",
   "execution_count": null,
   "metadata": {},
   "outputs": [],
   "source": [
    "#correlation_matrix"
   ]
  },
  {
   "cell_type": "code",
   "execution_count": null,
   "metadata": {},
   "outputs": [],
   "source": [
    "data_without_USD"
   ]
  },
  {
   "cell_type": "code",
   "execution_count": null,
   "metadata": {},
   "outputs": [],
   "source": [
    "data_group_by_date_min = data_without_USD.groupby('Ticker').Date.agg(min_date = 'min')\n",
    "#print(data_group_by_date_min)\n",
    "data_group_by_date_max = data_without_USD.groupby('Ticker').Date.agg(max_date = 'max')\n",
    "latest_start_time = data_group_by_date_min.min_date.max()\n",
    "stock = data_group_by_date_min[data_group_by_date_min.min_date == latest_start_time]\n",
    "print(stock.index)\n",
    "earliest_end_time = data_group_by_date_max[data_group_by_date_max.index.isin(stock.index)]\n",
    "print(earliest_end_time)\n",
    "earliest_end_time = data_group_by_date_max.max_date.min()\n",
    "print(latest_start_time,earliest_end_time)"
   ]
  },
  {
   "cell_type": "code",
   "execution_count": null,
   "metadata": {},
   "outputs": [],
   "source": [
    "data_interval"
   ]
  },
  {
   "cell_type": "code",
   "execution_count": null,
   "metadata": {},
   "outputs": [],
   "source": [
    "data_interval = data_without_USD[(data_without_USD.Date >= latest_start_time)]\n",
    "data_interval = data_interval[(data_interval.Date <= earliest_end_time)]\n",
    "min_count = data_interval.groupby('Ticker').Date.count().min()\n",
    "#print(min_count)\n",
    "tickers = data_interval.groupby('Ticker').Date.count() == min_count\n",
    "#print(np.where(tickers == True)[0][0])\n",
    "#print(tickers.index[np.where(tickers == True)[0][0]])\n",
    "ticker_value = tickers.index[np.where(tickers == True)[0][0]]\n",
    "print(ticker_value)\n",
    "print(data_interval[data_interval.Ticker == ticker_value].Date.max())\n",
    "#ds = data_interval[]\n",
    "data_interval_2 = data_interval[(data_interval.Date <= data_interval[data_interval.Ticker == ticker_value].Date.max())]\n",
    "print(data_interval_2.groupby('Ticker').Date.count().min())\n",
    "print(data_interval_2.groupby('Ticker').Date.count().max())\n"
   ]
  },
  {
   "cell_type": "code",
   "execution_count": null,
   "metadata": {},
   "outputs": [],
   "source": [
    "data_interval_2.set_index(['Date','Ticker'],inplace=True)"
   ]
  },
  {
   "cell_type": "code",
   "execution_count": null,
   "metadata": {},
   "outputs": [],
   "source": [
    "#create some data with Names column\n",
    "#data = pd.DataFrame({'Names': ['Joe', 'John', 'Jasper', 'Jez'] *4, 'Ob1' : np.random.rand(16), 'Ob2' : np.random.rand(16)})\n",
    "\n",
    "#create unique list of names\n",
    "UniqueTickers = data_interval_2.index.get_level_values('Ticker').unique()\n",
    "\n",
    "#create a data frame dictionary to store your data frames\n",
    "DataFrameDict = {elem : pd.DataFrame for elem in UniqueTickers}\n",
    "\n",
    "for key in DataFrameDict.keys():\n",
    "    DataFrameDict[key] = data_interval_2[:][data_interval_2.index.get_level_values('Ticker') == key]"
   ]
  },
  {
   "cell_type": "code",
   "execution_count": null,
   "metadata": {},
   "outputs": [],
   "source": [
    "n = 80\n",
    "train_dataset = []\n",
    "validation_dataset = []\n",
    "test_dataset = []\n",
    "#df.head(int(len(df)*(n/100)))\n",
    "for key in DataFrameDict.keys():\n",
    "    dataframe = DataFrameDict[key]\n",
    "    top_n_percent_rows = dataframe.head(int(len(dataframe)*(n/100)))\n",
    "    bottom_hundred_minus_n_percent_rows = dataframe.tail(int(len(dataframe)*((100-n)/100)))\n",
    "    test_dataset.append(bottom_hundred_minus_n_percent_rows)\n",
    "    train_data = top_n_percent_rows.head(int(len(top_n_percent_rows)*0.7))\n",
    "    #x_shaped = np.reshape(x, newshape=(-1, num_steps, num_features))\n",
    "    validation_data = top_n_percent_rows.tail(int(len(top_n_percent_rows)*0.3))\n",
    "    train_dataset.append(train_data)\n",
    "    validation_dataset.append(validation_data)\n",
    "                                              "
   ]
  },
  {
   "cell_type": "code",
   "execution_count": null,
   "metadata": {},
   "outputs": [],
   "source": [
    "train_dataset = pd.concat(train_dataset)\n",
    "validation_dataset = pd.concat(validation_dataset)\n",
    "test_dataset = pd.concat(test_dataset)\n"
   ]
  },
  {
   "cell_type": "code",
   "execution_count": null,
   "metadata": {},
   "outputs": [],
   "source": [
    "train_dataset = train_dataset.rename(columns={\"Adj. Close\": \"AdjustedClose\"})\n",
    "validation_dataset = validation_dataset.rename(columns={\"Adj. Close\": \"AdjustedClose\"})\n",
    "test_dataset = test_dataset.rename(columns={\"Adj. Close\": \"AdjustedClose\"})"
   ]
  },
  {
   "cell_type": "code",
   "execution_count": null,
   "metadata": {},
   "outputs": [],
   "source": [
    "train_dataset['Returns_from_adjusted_closed_to_adjusted_closed'] = train_dataset.groupby(['Ticker'])['AdjustedClose'].transform(lambda x: np.log(1+x.pct_change()))\n",
    "validation_dataset['Returns_from_adjusted_closed_to_adjusted_closed'] = validation_dataset.groupby(['Ticker'])['AdjustedClose'].transform(lambda x: np.log(1+x.pct_change()))\n",
    "test_dataset['Returns_from_adjusted_closed_to_adjusted_closed'] = test_dataset.groupby(['Ticker'])['AdjustedClose'].transform(lambda x: np.log(1+x.pct_change()))\n"
   ]
  },
  {
   "cell_type": "code",
   "execution_count": null,
   "metadata": {},
   "outputs": [],
   "source": [
    "train_data_set_CSV = train_dataset.to_csv('/Users/ankitaggarwal/Documents/AMS 691.03 ML in QF/ML in QF Project/data/Stocks_Train_data.csv')\n",
    "validation_data_set_CSV = validation_dataset.to_csv('/Users/ankitaggarwal/Documents/AMS 691.03 ML in QF/ML in QF Project/data/Stocks_Validation_data.csv')\n",
    "test_data_set_CSV = test_dataset.to_csv('/Users/ankitaggarwal/Documents/AMS 691.03 ML in QF/ML in QF Project/data/Stocks_Test_data.csv')"
   ]
  },
  {
   "cell_type": "code",
   "execution_count": null,
   "metadata": {},
   "outputs": [],
   "source": [
    "train_dataset = pd.read_csv('/Users/ankitaggarwal/Documents/AMS 691.03 ML in QF/ML in QF Project/data/Stocks_Train_data.csv')\n",
    "validation_dataset = pd.read_csv('/Users/ankitaggarwal/Documents/AMS 691.03 ML in QF/ML in QF Project/data/Stocks_Validation_data.csv')\n",
    "test_dataset = pd.read_csv('/Users/ankitaggarwal/Documents/AMS 691.03 ML in QF/ML in QF Project/data/Stocks_Test_data.csv')\n"
   ]
  },
  {
   "cell_type": "code",
   "execution_count": null,
   "metadata": {},
   "outputs": [],
   "source": [
    "print(train_dataset.tail(1))\n",
    "print(validation_dataset.head(1))"
   ]
  },
  {
   "cell_type": "code",
   "execution_count": null,
   "metadata": {},
   "outputs": [],
   "source": [
    "train_and_validation_dataset = pd.concat([train_dataset,validation_dataset])\n",
    "train_and_validation_dataset"
   ]
  },
  {
   "cell_type": "code",
   "execution_count": null,
   "metadata": {},
   "outputs": [],
   "source": [
    "train_and_validation_data_set_CSV = train_and_validation_dataset.to_csv('/Users/ankitaggarwal/Documents/AMS 691.03 ML in QF/ML in QF Project/data/Stocks_train_and_validation_data.csv')"
   ]
  },
  {
   "cell_type": "code",
   "execution_count": null,
   "metadata": {},
   "outputs": [],
   "source": [
    "valid_data = validation_dataset.loc[validation_dataset['Returns_from_adjusted_closed_to_adjusted_closed'].notnull(),:]\n",
    "valid_data.set_index(['Date','Ticker'],inplace=True)\n",
    "valid_data['Returns_from_adjusted_closed_to_adjusted_closed']"
   ]
  },
  {
   "cell_type": "code",
   "execution_count": null,
   "metadata": {},
   "outputs": [],
   "source": [
    "valid_data.reset_index(inplace=True)\n",
    "unique_tickers = valid_data['Ticker'].unique()\n",
    "unique_tickers = unique_tickers[:80]\n",
    "mean_of_validation_results = []\n",
    "for ticker in tqdm(unique_tickers):\n",
    "    get_data = valid_data[valid_data['Ticker'] == ticker]\n",
    "    mean_of_validation_results.append([get_data['Returns_from_adjusted_closed_to_adjusted_closed'].mean(),ticker])"
   ]
  },
  {
   "cell_type": "code",
   "execution_count": null,
   "metadata": {},
   "outputs": [],
   "source": [
    "mean_of_validation_results"
   ]
  },
  {
   "cell_type": "code",
   "execution_count": null,
   "metadata": {},
   "outputs": [],
   "source": []
  },
  {
   "cell_type": "code",
   "execution_count": null,
   "metadata": {},
   "outputs": [],
   "source": []
  },
  {
   "cell_type": "code",
   "execution_count": null,
   "metadata": {},
   "outputs": [],
   "source": []
  },
  {
   "cell_type": "code",
   "execution_count": null,
   "metadata": {},
   "outputs": [],
   "source": []
  },
  {
   "cell_type": "code",
   "execution_count": null,
   "metadata": {},
   "outputs": [],
   "source": []
  },
  {
   "cell_type": "code",
   "execution_count": null,
   "metadata": {},
   "outputs": [],
   "source": []
  },
  {
   "cell_type": "code",
   "execution_count": null,
   "metadata": {},
   "outputs": [],
   "source": []
  },
  {
   "cell_type": "code",
   "execution_count": null,
   "metadata": {},
   "outputs": [],
   "source": []
  },
  {
   "cell_type": "code",
   "execution_count": null,
   "metadata": {},
   "outputs": [],
   "source": []
  },
  {
   "cell_type": "code",
   "execution_count": null,
   "metadata": {},
   "outputs": [],
   "source": [
    "ddd = train_dataset.set_index(['Date'])\n",
    "ddd = train_dataset.pivot(index=ddd.index, columns='Ticker')['Returns_from_adjusted_closed_to_adjusted_closed']\n",
    "len(ddd)"
   ]
  },
  {
   "cell_type": "code",
   "execution_count": null,
   "metadata": {},
   "outputs": [],
   "source": [
    "ddd.head(5)"
   ]
  },
  {
   "cell_type": "code",
   "execution_count": null,
   "metadata": {},
   "outputs": [],
   "source": [
    "first_index = ddd.iloc[1]"
   ]
  },
  {
   "cell_type": "code",
   "execution_count": null,
   "metadata": {},
   "outputs": [],
   "source": [
    "first_index"
   ]
  },
  {
   "cell_type": "code",
   "execution_count": null,
   "metadata": {},
   "outputs": [],
   "source": [
    "covariance_matrix = ddd.cov()"
   ]
  },
  {
   "cell_type": "code",
   "execution_count": null,
   "metadata": {},
   "outputs": [],
   "source": []
  },
  {
   "cell_type": "code",
   "execution_count": null,
   "metadata": {},
   "outputs": [],
   "source": []
  },
  {
   "cell_type": "code",
   "execution_count": null,
   "metadata": {},
   "outputs": [],
   "source": []
  },
  {
   "cell_type": "code",
   "execution_count": null,
   "metadata": {},
   "outputs": [],
   "source": []
  },
  {
   "cell_type": "code",
   "execution_count": null,
   "metadata": {},
   "outputs": [],
   "source": []
  },
  {
   "cell_type": "code",
   "execution_count": null,
   "metadata": {},
   "outputs": [],
   "source": []
  },
  {
   "cell_type": "code",
   "execution_count": null,
   "metadata": {},
   "outputs": [],
   "source": []
  },
  {
   "cell_type": "code",
   "execution_count": null,
   "metadata": {},
   "outputs": [],
   "source": []
  },
  {
   "cell_type": "code",
   "execution_count": null,
   "metadata": {},
   "outputs": [],
   "source": []
  },
  {
   "cell_type": "code",
   "execution_count": null,
   "metadata": {},
   "outputs": [],
   "source": []
  },
  {
   "cell_type": "code",
   "execution_count": null,
   "metadata": {},
   "outputs": [],
   "source": []
  },
  {
   "cell_type": "code",
   "execution_count": null,
   "metadata": {},
   "outputs": [],
   "source": [
    "\"\"\"\n",
    "tickers = data_without_USD.index.get_level_values('Ticker').unique()\n",
    "for ticker in tickers:\n",
    "    #df = data_without_USD.loc[data_without_USD['Ticker'] == ticker,'Returns'] = \n",
    "    \n",
    "    data_without_USD.loc[data_without_USD.index.get_level_values('Ticker') == ticker,'Returns'] = data_without_USD.\\\n",
    "    loc[data_without_USD.index.get_level_values('Ticker') == ticker,'Adj. Close'].pct_change().fillna(method='ffill').iloc[1:]\n",
    "   \n",
    "\n",
    "    data_without_USD.loc[data_without_USD.index.get_level_values('Ticker') == ticker,'Returns_hat'] = data_without_USD.\\\n",
    "    loc[data_without_USD.index.get_level_values('Ticker') == ticker,'Returns'].rolling(window=250,min_periods=250).mean().shift(1)\n",
    "    \n",
    "    data_without_USD.loc[data_without_USD.index.get_level_values('Ticker') == ticker,'Returns_Standard_Deviation'] = data_without_USD.\\\n",
    "    loc[data_without_USD.index.get_level_values('Ticker') == ticker,'Returns'].rolling(window=250,min_periods=250).std().shift(1)\n",
    "    #data_without_USD.update(df)\n",
    "\"\"\"   "
   ]
  },
  {
   "cell_type": "code",
   "execution_count": null,
   "metadata": {},
   "outputs": [],
   "source": []
  },
  {
   "cell_type": "code",
   "execution_count": null,
   "metadata": {},
   "outputs": [],
   "source": [
    "data_without_USD.tail(5)"
   ]
  },
  {
   "cell_type": "code",
   "execution_count": null,
   "metadata": {},
   "outputs": [],
   "source": [
    "print(data_without_USD[['Returns','Returns_hat','Returns_Standard_Deviation']])\n"
   ]
  },
  {
   "cell_type": "code",
   "execution_count": null,
   "metadata": {},
   "outputs": [],
   "source": [
    "Sigma_hat = returns.rolling(window=250, min_periods=250, closed='neither').cov().dropna()\n"
   ]
  },
  {
   "cell_type": "code",
   "execution_count": null,
   "metadata": {},
   "outputs": [],
   "source": [
    "print(data_without_USD[['Returns','Returns_hat','Returns_Standard_Deviation']])\n"
   ]
  },
  {
   "cell_type": "code",
   "execution_count": null,
   "metadata": {},
   "outputs": [],
   "source": []
  },
  {
   "cell_type": "code",
   "execution_count": null,
   "metadata": {},
   "outputs": [],
   "source": []
  },
  {
   "cell_type": "code",
   "execution_count": null,
   "metadata": {},
   "outputs": [],
   "source": []
  },
  {
   "cell_type": "code",
   "execution_count": null,
   "metadata": {},
   "outputs": [],
   "source": []
  },
  {
   "cell_type": "code",
   "execution_count": null,
   "metadata": {},
   "outputs": [],
   "source": []
  },
  {
   "cell_type": "code",
   "execution_count": null,
   "metadata": {},
   "outputs": [],
   "source": []
  },
  {
   "cell_type": "code",
   "execution_count": null,
   "metadata": {},
   "outputs": [],
   "source": []
  },
  {
   "cell_type": "code",
   "execution_count": null,
   "metadata": {},
   "outputs": [],
   "source": []
  },
  {
   "cell_type": "code",
   "execution_count": null,
   "metadata": {},
   "outputs": [],
   "source": []
  },
  {
   "cell_type": "code",
   "execution_count": null,
   "metadata": {},
   "outputs": [],
   "source": []
  },
  {
   "cell_type": "code",
   "execution_count": null,
   "metadata": {},
   "outputs": [],
   "source": []
  },
  {
   "cell_type": "code",
   "execution_count": null,
   "metadata": {},
   "outputs": [],
   "source": []
  },
  {
   "cell_type": "code",
   "execution_count": null,
   "metadata": {},
   "outputs": [],
   "source": []
  },
  {
   "cell_type": "code",
   "execution_count": null,
   "metadata": {},
   "outputs": [],
   "source": []
  },
  {
   "cell_type": "markdown",
   "metadata": {
    "deletable": true,
    "editable": true
   },
   "source": [
    "#### Computation "
   ]
  },
  {
   "cell_type": "markdown",
   "metadata": {
    "deletable": true,
    "editable": true
   },
   "source": [
    "#### Filtering "
   ]
  },
  {
   "cell_type": "code",
   "execution_count": null,
   "metadata": {
    "collapsed": false,
    "deletable": true,
    "editable": true,
    "jupyter": {
     "outputs_hidden": false
    }
   },
   "outputs": [],
   "source": [
    "# filter NaNs - threshold at 2% missing values\n",
    "bad_assets = prices.columns[prices.isnull().sum()>len(prices)*0.02]\n",
    "if len(bad_assets):\n",
    "    print('Assets %s have too many NaNs, removing them' % bad_assets)\n",
    "\n",
    "prices = prices.loc[:,~prices.columns.isin(bad_assets)]\n",
    "sigmas = sigmas.loc[:,~sigmas.columns.isin(bad_assets)]\n",
    "volumes = volumes.loc[:,~volumes.columns.isin(bad_assets)]\n",
    "\n",
    "nassets=prices.shape[1]\n",
    "\n",
    "# days on which many assets have missing values\n",
    "bad_days1=sigmas.index[sigmas.isnull().sum(1) > nassets*.9]\n",
    "bad_days2=prices.index[prices.isnull().sum(1) > nassets*.9]\n",
    "bad_days3=volumes.index[volumes.isnull().sum(1) > nassets*.9]\n",
    "bad_days=pd.Index(set(bad_days1).union(set(bad_days2)).union(set(bad_days3))).sort_values()\n",
    "print (\"Removing these days from dataset:\")\n",
    "print(pd.DataFrame({'nan price':prices.isnull().sum(1)[bad_days],\n",
    "                    'nan volumes':volumes.isnull().sum(1)[bad_days],\n",
    "                    'nan sigmas':sigmas.isnull().sum(1)[bad_days]}))\n",
    "\n",
    "prices=prices.loc[~prices.index.isin(bad_days)]\n",
    "sigmas=sigmas.loc[~sigmas.index.isin(bad_days)]\n",
    "volumes=volumes.loc[~volumes.index.isin(bad_days)]\n",
    "\n",
    "# extra filtering\n",
    "print(pd.DataFrame({'remaining nan price':prices.isnull().sum(),\n",
    "                    'remaining nan volumes':volumes.isnull().sum(),\n",
    "                    'remaining nan sigmas':sigmas.isnull().sum()}))\n",
    "prices=prices.fillna(method='ffill')\n",
    "sigmas=sigmas.fillna(method='ffill')\n",
    "volumes=volumes.fillna(method='ffill')\n",
    "print(pd.DataFrame({'remaining nan price':prices.isnull().sum(),\n",
    "                    'remaining nan volumes':volumes.isnull().sum(),\n",
    "                    'remaining nan sigmas':sigmas.isnull().sum()}))"
   ]
  },
  {
   "cell_type": "code",
   "execution_count": null,
   "metadata": {},
   "outputs": [],
   "source": [
    "keys=[el for el in assets.index if not el in (set(assets.index)-set(data.keys()))]\n",
    "\n",
    "def select_first_valid_column(df, columns):\n",
    "    for column in columns:\n",
    "        if column in df.columns:\n",
    "            return df[column]\n",
    "        \n",
    "# extract prices\n",
    "prices=pd.DataFrame.from_records([(k,select_first_valid_column(data[k], [\"Adj. Close\", \"Close\", \"Value\"])) \n",
    "                                for k in keys])\n",
    "\n"
   ]
  },
  {
   "cell_type": "code",
   "execution_count": null,
   "metadata": {},
   "outputs": [],
   "source": [
    "#compute sigmas\n",
    "#open_price=pd.DataFrame.from_records([(k,select_first_valid_column(data[k], [\"Open\"])) for k in keys])\n",
    "#close_price=pd.DataFrame.from_records([(k,select_first_valid_column(data[k], [\"Close\"])) for k in keys])\n"
   ]
  },
  {
   "cell_type": "code",
   "execution_count": null,
   "metadata": {
    "collapsed": false,
    "deletable": true,
    "editable": true,
    "jupyter": {
     "outputs_hidden": false
    }
   },
   "outputs": [],
   "source": [
    "sigmas = np.abs(np.log(open_price.values.astype(float))-np.log(close_price.values.astype(float)))"
   ]
  },
  {
   "cell_type": "code",
   "execution_count": null,
   "metadata": {},
   "outputs": [],
   "source": [
    "# extract volumes\n",
    "volumes=pd.DataFrame.from_records([(k,select_first_valid_column(data[k], [\"Adj. Volume\", \"Volume\"])) for k in keys])\n",
    "\n",
    "# fix risk free\n",
    "prices[RISK_FREE_SYMBOL]=10000*(1 + prices[RISK_FREE_SYMBOL]/(100*250)).cumprod()"
   ]
  },
  {
   "cell_type": "markdown",
   "metadata": {
    "deletable": true,
    "editable": true
   },
   "source": [
    "#### Save "
   ]
  },
  {
   "cell_type": "code",
   "execution_count": null,
   "metadata": {
    "collapsed": false,
    "editable": true,
    "jupyter": {
     "outputs_hidden": false
    }
   },
   "outputs": [],
   "source": [
    "# make volumes in dollars\n",
    "volumes = volumes*prices\n",
    "\n",
    "# compute returns\n",
    "returns = (prices.diff()/prices.shift(1)).fillna(method='ffill').ix[1:]\n",
    "\n",
    "bad_assets = returns.columns[((-.5>returns).sum()>0)|((returns > 2.).sum()>0)]\n",
    "if len(bad_assets):\n",
    "    print('Assets %s have dubious returns, removed' % bad_assets)\n",
    "    \n",
    "prices = prices.loc[:,~prices.columns.isin(bad_assets)]\n",
    "sigmas = sigmas.loc[:,~sigmas.columns.isin(bad_assets)]\n",
    "volumes = volumes.loc[:,~volumes.columns.isin(bad_assets)]\n",
    "returns = returns.loc[:,~returns.columns.isin(bad_assets)]\n",
    "\n",
    "# remove USDOLLAR\n",
    "prices = prices.iloc[:,:-1]\n",
    "sigmas = sigmas.iloc[:,:-1]\n",
    "volumes = volumes.iloc[:,:-1]\n",
    "\n",
    "\n",
    "# save data\n",
    "prices.to_csv(datadir+'prices.csv.gz', compression='gzip', float_format='%.3f')\n",
    "volumes.to_csv(datadir+'volumes.csv.gz', compression='gzip', float_format='%d')\n",
    "returns.to_csv(datadir+'returns.csv.gz', compression='gzip', float_format='%.3e')\n",
    "sigmas.to_csv(datadir+'sigmas.csv.gz', compression='gzip', float_format='%.3e')"
   ]
  },
  {
   "cell_type": "markdown",
   "metadata": {
    "deletable": true,
    "editable": true
   },
   "source": [
    "# Estimates "
   ]
  },
  {
   "cell_type": "code",
   "execution_count": null,
   "metadata": {
    "collapsed": false,
    "deletable": true,
    "editable": true,
    "jupyter": {
     "outputs_hidden": false
    }
   },
   "outputs": [],
   "source": [
    "print(\"typical variance of returns: %g\"%returns.var().mean())"
   ]
  },
  {
   "cell_type": "code",
   "execution_count": null,
   "metadata": {
    "collapsed": false,
    "deletable": true,
    "editable": true,
    "jupyter": {
     "outputs_hidden": false
    }
   },
   "outputs": [],
   "source": [
    "sigma2_n=0.02\n",
    "sigma2_r=0.0005\n",
    "\n",
    "np.random.seed(0)\n",
    "noise=pd.DataFrame(index=returns.index, columns=returns.columns, \n",
    "                   data=np.sqrt(sigma2_n)*np.random.randn(*returns.values.shape))\n",
    "return_estimate= (returns + noise)*sigma2_r/(sigma2_r+sigma2_n)\n",
    "return_estimate.USDOLLAR = returns.USDOLLAR\n",
    "\n",
    "return_estimate.to_csv(datadir+'return_estimate.csv.gz', compression='gzip', float_format='%.3e')"
   ]
  },
  {
   "cell_type": "code",
   "execution_count": null,
   "metadata": {
    "collapsed": false,
    "deletable": true,
    "editable": true,
    "jupyter": {
     "outputs_hidden": false
    }
   },
   "outputs": [],
   "source": [
    "agree_on_sign=np.sign(returns.ix[:,:-1]) == np.sign(return_estimate.ix[:,:-1])\n",
    "print(\"Return predictions have the right sign %.1f%% of the times\"%\n",
    "      (100*agree_on_sign.sum().sum()/(agree_on_sign.shape[0]*(agree_on_sign.shape[1]-1))))"
   ]
  },
  {
   "cell_type": "code",
   "execution_count": null,
   "metadata": {
    "deletable": true,
    "editable": true
   },
   "outputs": [],
   "source": [
    "volume_estimate=volumes.rolling(window=10, center=False).mean().dropna()\n",
    "volume_estimate.to_csv(datadir+'volume_estimate.csv.gz', compression='gzip', float_format='%d')\n",
    "sigmas_estimate = sigmas.rolling(window=10, center=False).mean().dropna()\n",
    "sigmas_estimate.to_csv(datadir+'sigma_estimate.csv.gz', compression='gzip', float_format='%.3e')"
   ]
  },
  {
   "cell_type": "markdown",
   "metadata": {
    "deletable": true,
    "editable": true
   },
   "source": [
    "# Risk model "
   ]
  },
  {
   "cell_type": "code",
   "execution_count": null,
   "metadata": {
    "deletable": true,
    "editable": true
   },
   "outputs": [],
   "source": [
    "start_t=\"2012-01-01\"\n",
    "end_t=\"2016-12-31\"\n",
    "\n",
    "first_days_month=\\\n",
    "    pd.date_range(start=returns.index[next(i for (i,el) in enumerate(returns.index >= start_t) if el)-1],\n",
    "                                 end=returns.index[-1], freq='MS')\n",
    "\n",
    "k=15\n",
    "exposures, factor_sigma, idyos = {}, {},{}\n",
    "for day in first_days_month:\n",
    "    used_returns = returns.loc[(returns.index < day)&\n",
    "                        (returns.index >= day-pd.Timedelta(\"730 days\"))]\n",
    "    second_moment=used_returns.values.T@used_returns.values/used_returns.values.shape[0]\n",
    "    eival,eivec=np.linalg.eigh(second_moment)\n",
    "    factor_sigma[day]=np.diag(eival[-k:])\n",
    "    exposures[day]=pd.DataFrame(data=eivec[:,-k:],index=returns.columns)\n",
    "    idyos[day]=pd.Series(data=np.diag(eivec[:,:-k]@np.diag(eival[:-k])@eivec[:,:-k].T),index=returns.columns)\n",
    "    \n",
    "pd.Panel(exposures).swapaxes(1,2).to_hdf(datadir+'risk_model.h5', 'exposures')\n",
    "pd.DataFrame(idyos).T.to_hdf(datadir+'risk_model.h5', 'idyos')\n",
    "pd.Panel(factor_sigma).to_hdf(datadir+'risk_model.h5', 'factor_sigma')\n",
    "\n",
    "# load with\n",
    "# store = pd.HDFStore('risk_model.h5')\n",
    "# store.exposures, etc."
   ]
  },
  {
   "cell_type": "code",
   "execution_count": null,
   "metadata": {},
   "outputs": [],
   "source": []
  }
 ],
 "metadata": {
  "anaconda-cloud": {},
  "kernelspec": {
   "display_name": "mlfinlab",
   "language": "python",
   "name": "mlfinlab"
  },
  "language_info": {
   "codemirror_mode": {
    "name": "ipython",
    "version": 3
   },
   "file_extension": ".py",
   "mimetype": "text/x-python",
   "name": "python",
   "nbconvert_exporter": "python",
   "pygments_lexer": "ipython3",
   "version": "3.7.7"
  }
 },
 "nbformat": 4,
 "nbformat_minor": 4
}
